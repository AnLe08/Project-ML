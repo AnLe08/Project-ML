{
  "cells": [
    {
      "cell_type": "markdown",
      "source": [
        "### **Dự án: House Price Prediction using Real Estate Data**\n",
        "\n",
        "#### Kỹ thuật áp dụng:\n",
        "\n",
        "* **Regression** (Linear and Tree-based)\n",
        "* **Model Evaluation** (MSE, R², Cross-validation)\n",
        "\n",
        "#### Mô tả:\n",
        "\n",
        "Tạo một mô hình dự đoán giá thuê nhà dựa trên các đặc trưng như: diện tích, số phòng, khu vực, tiện nghi, thời gian xây dựng, v.v.\n"
      ],
      "metadata": {
        "id": "8uQenE90XRFd"
      }
    },
    {
      "cell_type": "markdown",
      "source": [
        "### Đọc dữ liệu"
      ],
      "metadata": {
        "id": "zGyG7hQZXujt"
      }
    },
    {
      "cell_type": "code",
      "source": [
        "import pandas as pd\n",
        "import numpy as np\n",
        "import matplotlib.pyplot as plt\n",
        "import seaborn as sns\n",
        "from sklearn.model_selection import train_test_split\n",
        "from sklearn.linear_model import LinearRegression\n",
        "from sklearn.metrics import mean_squared_error, r2_score\n",
        "\n",
        "print(\"Các thư viện đã được import thành công!\")"
      ],
      "metadata": {
        "id": "oqk95TqRsU9h",
        "colab": {
          "base_uri": "https://localhost:8080/"
        },
        "outputId": "5f477802-ea29-40de-fe2d-ec9f5def43e5"
      },
      "execution_count": 36,
      "outputs": [
        {
          "output_type": "stream",
          "name": "stdout",
          "text": [
            "Các thư viện đã được import thành công!\n"
          ]
        }
      ]
    },
    {
      "cell_type": "code",
      "source": [
        "try:\n",
        "    df = pd.read_csv('/content/train.csv') #https://www.kaggle.com/competitions/house-prices-advanced-regression-techniques/data?select=train.csv\n",
        "    print(\"Đọc dữ liệu thành công!\")\n",
        "    print(df.head())\n",
        "except FileNotFoundError:\n",
        "    print(\"Lỗi: Không tìm thấy file train.csv.\")"
      ],
      "metadata": {
        "colab": {
          "base_uri": "https://localhost:8080/"
        },
        "id": "O-CnaxM7wM5o",
        "outputId": "4f71fa8b-93d7-4913-bda2-4718fa0cd042"
      },
      "execution_count": 37,
      "outputs": [
        {
          "output_type": "stream",
          "name": "stdout",
          "text": [
            "Đọc dữ liệu thành công!\n",
            "   Id  MSSubClass MSZoning  LotFrontage  LotArea Street Alley LotShape  \\\n",
            "0   1          60       RL         65.0     8450   Pave   NaN      Reg   \n",
            "1   2          20       RL         80.0     9600   Pave   NaN      Reg   \n",
            "2   3          60       RL         68.0    11250   Pave   NaN      IR1   \n",
            "3   4          70       RL         60.0     9550   Pave   NaN      IR1   \n",
            "4   5          60       RL         84.0    14260   Pave   NaN      IR1   \n",
            "\n",
            "  LandContour Utilities  ... PoolArea PoolQC Fence MiscFeature MiscVal MoSold  \\\n",
            "0         Lvl    AllPub  ...        0    NaN   NaN         NaN       0      2   \n",
            "1         Lvl    AllPub  ...        0    NaN   NaN         NaN       0      5   \n",
            "2         Lvl    AllPub  ...        0    NaN   NaN         NaN       0      9   \n",
            "3         Lvl    AllPub  ...        0    NaN   NaN         NaN       0      2   \n",
            "4         Lvl    AllPub  ...        0    NaN   NaN         NaN       0     12   \n",
            "\n",
            "  YrSold  SaleType  SaleCondition  SalePrice  \n",
            "0   2008        WD         Normal     208500  \n",
            "1   2007        WD         Normal     181500  \n",
            "2   2008        WD         Normal     223500  \n",
            "3   2006        WD        Abnorml     140000  \n",
            "4   2008        WD         Normal     250000  \n",
            "\n",
            "[5 rows x 81 columns]\n"
          ]
        }
      ]
    },
    {
      "cell_type": "markdown",
      "source": [
        "### **Initial Exploratory Data Analysis - EDA**\n",
        "\n",
        "1.  **Thông tin chung về DataFrame:** Số lượng hàng và cột, kiểu dữ liệu của từng cột, số lượng giá trị non-null.\n",
        "2.  **Thống kê mô tả:** Các giá trị thống kê như trung bình, độ lệch chuẩn, giá trị nhỏ nhất, giá trị lớn nhất, các (quartiles) cho các cột số.\n",
        "3.  **Phân bố của biến mục tiêu (SalePrice):** Xem xét phân bố của giá nhà để hiểu liệu nó có bị lệch (skewed) hay không.\n",
        "4.  **Kiểm tra giá trị thiếu (Missing Values):** Xác định các cột có\n"
      ],
      "metadata": {
        "id": "Kc2Ze3Jixfo_"
      }
    },
    {
      "cell_type": "code",
      "source": [
        "# Thông tin chung về DataFrame\n",
        "print(\"Thông tin DataFrame:\")\n",
        "df.info()\n",
        "\n",
        "print(\"\\nThống kê mô tả các cột số:\")\n",
        "print(df.describe())\n",
        "\n",
        "# Phân bố của biến mục tiêu (SalePrice)\n",
        "plt.figure(figsize=(8, 6))\n",
        "sns.histplot(df['SalePrice'], kde=True)\n",
        "plt.title('Phân bố của SalePrice')\n",
        "plt.xlabel('Giá nhà')\n",
        "plt.ylabel('Tần suất')\n",
        "plt.show()\n",
        "\n",
        "# Kiểm tra giá trị thiếu\n",
        "missing_values = df.isnull().sum().sort_values(ascending=False)\n",
        "print(\"\\nSố lượng giá trị thiếu trong mỗi cột:\")\n",
        "print(missing_values[missing_values > 0]) # Chỉ hiển thị các cột có giá trị thiếu"
      ],
      "metadata": {
        "colab": {
          "base_uri": "https://localhost:8080/",
          "height": 1000
        },
        "id": "6Sh8KxEGxYQB",
        "outputId": "9b2a006d-5927-41f5-aaf2-6cac0d23e346"
      },
      "execution_count": 38,
      "outputs": [
        {
          "output_type": "stream",
          "name": "stdout",
          "text": [
            "Thông tin DataFrame:\n",
            "<class 'pandas.core.frame.DataFrame'>\n",
            "RangeIndex: 1460 entries, 0 to 1459\n",
            "Data columns (total 81 columns):\n",
            " #   Column         Non-Null Count  Dtype  \n",
            "---  ------         --------------  -----  \n",
            " 0   Id             1460 non-null   int64  \n",
            " 1   MSSubClass     1460 non-null   int64  \n",
            " 2   MSZoning       1460 non-null   object \n",
            " 3   LotFrontage    1201 non-null   float64\n",
            " 4   LotArea        1460 non-null   int64  \n",
            " 5   Street         1460 non-null   object \n",
            " 6   Alley          91 non-null     object \n",
            " 7   LotShape       1460 non-null   object \n",
            " 8   LandContour    1460 non-null   object \n",
            " 9   Utilities      1460 non-null   object \n",
            " 10  LotConfig      1460 non-null   object \n",
            " 11  LandSlope      1460 non-null   object \n",
            " 12  Neighborhood   1460 non-null   object \n",
            " 13  Condition1     1460 non-null   object \n",
            " 14  Condition2     1460 non-null   object \n",
            " 15  BldgType       1460 non-null   object \n",
            " 16  HouseStyle     1460 non-null   object \n",
            " 17  OverallQual    1460 non-null   int64  \n",
            " 18  OverallCond    1460 non-null   int64  \n",
            " 19  YearBuilt      1460 non-null   int64  \n",
            " 20  YearRemodAdd   1460 non-null   int64  \n",
            " 21  RoofStyle      1460 non-null   object \n",
            " 22  RoofMatl       1460 non-null   object \n",
            " 23  Exterior1st    1460 non-null   object \n",
            " 24  Exterior2nd    1460 non-null   object \n",
            " 25  MasVnrType     588 non-null    object \n",
            " 26  MasVnrArea     1452 non-null   float64\n",
            " 27  ExterQual      1460 non-null   object \n",
            " 28  ExterCond      1460 non-null   object \n",
            " 29  Foundation     1460 non-null   object \n",
            " 30  BsmtQual       1423 non-null   object \n",
            " 31  BsmtCond       1423 non-null   object \n",
            " 32  BsmtExposure   1422 non-null   object \n",
            " 33  BsmtFinType1   1423 non-null   object \n",
            " 34  BsmtFinSF1     1460 non-null   int64  \n",
            " 35  BsmtFinType2   1422 non-null   object \n",
            " 36  BsmtFinSF2     1460 non-null   int64  \n",
            " 37  BsmtUnfSF      1460 non-null   int64  \n",
            " 38  TotalBsmtSF    1460 non-null   int64  \n",
            " 39  Heating        1460 non-null   object \n",
            " 40  HeatingQC      1460 non-null   object \n",
            " 41  CentralAir     1460 non-null   object \n",
            " 42  Electrical     1459 non-null   object \n",
            " 43  1stFlrSF       1460 non-null   int64  \n",
            " 44  2ndFlrSF       1460 non-null   int64  \n",
            " 45  LowQualFinSF   1460 non-null   int64  \n",
            " 46  GrLivArea      1460 non-null   int64  \n",
            " 47  BsmtFullBath   1460 non-null   int64  \n",
            " 48  BsmtHalfBath   1460 non-null   int64  \n",
            " 49  FullBath       1460 non-null   int64  \n",
            " 50  HalfBath       1460 non-null   int64  \n",
            " 51  BedroomAbvGr   1460 non-null   int64  \n",
            " 52  KitchenAbvGr   1460 non-null   int64  \n",
            " 53  KitchenQual    1460 non-null   object \n",
            " 54  TotRmsAbvGrd   1460 non-null   int64  \n",
            " 55  Functional     1460 non-null   object \n",
            " 56  Fireplaces     1460 non-null   int64  \n",
            " 57  FireplaceQu    770 non-null    object \n",
            " 58  GarageType     1379 non-null   object \n",
            " 59  GarageYrBlt    1379 non-null   float64\n",
            " 60  GarageFinish   1379 non-null   object \n",
            " 61  GarageCars     1460 non-null   int64  \n",
            " 62  GarageArea     1460 non-null   int64  \n",
            " 63  GarageQual     1379 non-null   object \n",
            " 64  GarageCond     1379 non-null   object \n",
            " 65  PavedDrive     1460 non-null   object \n",
            " 66  WoodDeckSF     1460 non-null   int64  \n",
            " 67  OpenPorchSF    1460 non-null   int64  \n",
            " 68  EnclosedPorch  1460 non-null   int64  \n",
            " 69  3SsnPorch      1460 non-null   int64  \n",
            " 70  ScreenPorch    1460 non-null   int64  \n",
            " 71  PoolArea       1460 non-null   int64  \n",
            " 72  PoolQC         7 non-null      object \n",
            " 73  Fence          281 non-null    object \n",
            " 74  MiscFeature    54 non-null     object \n",
            " 75  MiscVal        1460 non-null   int64  \n",
            " 76  MoSold         1460 non-null   int64  \n",
            " 77  YrSold         1460 non-null   int64  \n",
            " 78  SaleType       1460 non-null   object \n",
            " 79  SaleCondition  1460 non-null   object \n",
            " 80  SalePrice      1460 non-null   int64  \n",
            "dtypes: float64(3), int64(35), object(43)\n",
            "memory usage: 924.0+ KB\n",
            "\n",
            "Thống kê mô tả các cột số:\n",
            "                Id   MSSubClass  LotFrontage        LotArea  OverallQual  \\\n",
            "count  1460.000000  1460.000000  1201.000000    1460.000000  1460.000000   \n",
            "mean    730.500000    56.897260    70.049958   10516.828082     6.099315   \n",
            "std     421.610009    42.300571    24.284752    9981.264932     1.382997   \n",
            "min       1.000000    20.000000    21.000000    1300.000000     1.000000   \n",
            "25%     365.750000    20.000000    59.000000    7553.500000     5.000000   \n",
            "50%     730.500000    50.000000    69.000000    9478.500000     6.000000   \n",
            "75%    1095.250000    70.000000    80.000000   11601.500000     7.000000   \n",
            "max    1460.000000   190.000000   313.000000  215245.000000    10.000000   \n",
            "\n",
            "       OverallCond    YearBuilt  YearRemodAdd   MasVnrArea   BsmtFinSF1  ...  \\\n",
            "count  1460.000000  1460.000000   1460.000000  1452.000000  1460.000000  ...   \n",
            "mean      5.575342  1971.267808   1984.865753   103.685262   443.639726  ...   \n",
            "std       1.112799    30.202904     20.645407   181.066207   456.098091  ...   \n",
            "min       1.000000  1872.000000   1950.000000     0.000000     0.000000  ...   \n",
            "25%       5.000000  1954.000000   1967.000000     0.000000     0.000000  ...   \n",
            "50%       5.000000  1973.000000   1994.000000     0.000000   383.500000  ...   \n",
            "75%       6.000000  2000.000000   2004.000000   166.000000   712.250000  ...   \n",
            "max       9.000000  2010.000000   2010.000000  1600.000000  5644.000000  ...   \n",
            "\n",
            "        WoodDeckSF  OpenPorchSF  EnclosedPorch    3SsnPorch  ScreenPorch  \\\n",
            "count  1460.000000  1460.000000    1460.000000  1460.000000  1460.000000   \n",
            "mean     94.244521    46.660274      21.954110     3.409589    15.060959   \n",
            "std     125.338794    66.256028      61.119149    29.317331    55.757415   \n",
            "min       0.000000     0.000000       0.000000     0.000000     0.000000   \n",
            "25%       0.000000     0.000000       0.000000     0.000000     0.000000   \n",
            "50%       0.000000    25.000000       0.000000     0.000000     0.000000   \n",
            "75%     168.000000    68.000000       0.000000     0.000000     0.000000   \n",
            "max     857.000000   547.000000     552.000000   508.000000   480.000000   \n",
            "\n",
            "          PoolArea       MiscVal       MoSold       YrSold      SalePrice  \n",
            "count  1460.000000   1460.000000  1460.000000  1460.000000    1460.000000  \n",
            "mean      2.758904     43.489041     6.321918  2007.815753  180921.195890  \n",
            "std      40.177307    496.123024     2.703626     1.328095   79442.502883  \n",
            "min       0.000000      0.000000     1.000000  2006.000000   34900.000000  \n",
            "25%       0.000000      0.000000     5.000000  2007.000000  129975.000000  \n",
            "50%       0.000000      0.000000     6.000000  2008.000000  163000.000000  \n",
            "75%       0.000000      0.000000     8.000000  2009.000000  214000.000000  \n",
            "max     738.000000  15500.000000    12.000000  2010.000000  755000.000000  \n",
            "\n",
            "[8 rows x 38 columns]\n"
          ]
        },
        {
          "output_type": "display_data",
          "data": {
            "text/plain": [
              "<Figure size 800x600 with 1 Axes>"
            ],
            "image/png": "[encoded data removed]"
          },
          "metadata": {}
        },
        {
          "output_type": "stream",
          "name": "stdout",
          "text": [
            "\n",
            "Số lượng giá trị thiếu trong mỗi cột:\n",
            "PoolQC          1453\n",
            "MiscFeature     1406\n",
            "Alley           1369\n",
            "Fence           1179\n",
            "MasVnrType       872\n",
            "FireplaceQu      690\n",
            "LotFrontage      259\n",
            "GarageQual        81\n",
            "GarageFinish      81\n",
            "GarageType        81\n",
            "GarageYrBlt       81\n",
            "GarageCond        81\n",
            "BsmtFinType2      38\n",
            "BsmtExposure      38\n",
            "BsmtCond          37\n",
            "BsmtQual          37\n",
            "BsmtFinType1      37\n",
            "MasVnrArea         8\n",
            "Electrical         1\n",
            "dtype: int64\n"
          ]
        }
      ]
    },
    {
      "cell_type": "markdown",
      "source": [
        "### Tiền xử lý dữ liệu"
      ],
      "metadata": {
        "id": "ZSZAFxGgG6ax"
      }
    },
    {
      "cell_type": "markdown",
      "source": [
        "Dựa trên ý nghĩa và tỷ lệ giá trị thiếu, chúng ta sẽ quyết định nên loại bỏ cột, điền giá trị, hay giữ nguyên (trong một số trường hợp, giá trị thiếu có thể mang thông tin)."
      ],
      "metadata": {
        "id": "xuG0tZ3e1dOp"
      }
    },
    {
      "cell_type": "code",
      "source": [
        "missing_percentage = (df.isnull().sum() / len(df)) * 100\n",
        "missing_percentage = missing_percentage.sort_values(ascending=False)\n",
        "print(\"Tỷ lệ phần trăm giá trị thiếu trong mỗi cột:\")\n",
        "print(missing_percentage[missing_percentage > 0])"
      ],
      "metadata": {
        "colab": {
          "base_uri": "https://localhost:8080/"
        },
        "id": "lc02sFN_1eb_",
        "outputId": "c5bec5c1-d8d9-4651-b947-9a7077b1d08c"
      },
      "execution_count": 39,
      "outputs": [
        {
          "output_type": "stream",
          "name": "stdout",
          "text": [
            "Tỷ lệ phần trăm giá trị thiếu trong mỗi cột:\n",
            "PoolQC          99.520548\n",
            "MiscFeature     96.301370\n",
            "Alley           93.767123\n",
            "Fence           80.753425\n",
            "MasVnrType      59.726027\n",
            "FireplaceQu     47.260274\n",
            "LotFrontage     17.739726\n",
            "GarageQual       5.547945\n",
            "GarageFinish     5.547945\n",
            "GarageType       5.547945\n",
            "GarageYrBlt      5.547945\n",
            "GarageCond       5.547945\n",
            "BsmtFinType2     2.602740\n",
            "BsmtExposure     2.602740\n",
            "BsmtCond         2.534247\n",
            "BsmtQual         2.534247\n",
            "BsmtFinType1     2.534247\n",
            "MasVnrArea       0.547945\n",
            "Electrical       0.068493\n",
            "dtype: float64\n"
          ]
        }
      ]
    },
    {
      "cell_type": "markdown",
      "source": [
        "Do tỷ lệ phần trăm quá cao nên việc loại bỏ có thể ảnh hưởng đến mô hình nên ta thêm cột binary để tránh thiếu sót thông tin"
      ],
      "metadata": {
        "id": "iZSRMLIZ2JSc"
      }
    },
    {
      "cell_type": "code",
      "source": [
        "# Tạo cột HasPool và điền giá trị thiếu của PoolQC\n",
        "df['HasPool'] = df['PoolQC'].apply(lambda x: 1 if pd.notnull(x) else 0)\n",
        "df['PoolQC'] = df['PoolQC'].fillna('NoPool')\n",
        "\n",
        "# Tạo cột HasMiscFeature và điền giá trị thiếu của MiscFeature\n",
        "df['HasMiscFeature'] = df['MiscFeature'].apply(lambda x: 1 if pd.notnull(x) else 0)\n",
        "df['MiscFeature'] = df['MiscFeature'].fillna('None')\n",
        "\n",
        "# Tạo cột HasAlley và điền giá trị thiếu của Alley\n",
        "df['HasAlley'] = df['Alley'].apply(lambda x: 1 if pd.notnull(x) else 0)\n",
        "df['Alley'] = df['Alley'].fillna('NoAlley')\n",
        "\n",
        "# Tạo cột HasFence và điền giá trị thiếu của Fence\n",
        "df['HasFence'] = df['Fence'].apply(lambda x: 1 if pd.notnull(x) else 0)\n",
        "df['Fence'] = df['Fence'].fillna('NoFence')\n",
        "\n",
        "# Tạo cột HasFireplace và điền giá trị thiếu của FireplaceQu\n",
        "df['HasFireplace'] = df['FireplaceQu'].apply(lambda x: 1 if pd.notnull(x) else 0)\n",
        "df['FireplaceQu'] = df['FireplaceQu'].fillna('NoFireplace')\n",
        "\n",
        "# Kiểm tra lại số lượng giá trị thiếu sau khi xử lý\n",
        "missing_values_updated = df.isnull().sum().sort_values(ascending=False)\n",
        "print(\"Số lượng giá trị thiếu sau bước xử lý đầu tiên:\")\n",
        "print(missing_values_updated[missing_values_updated > 0].head(10))"
      ],
      "metadata": {
        "colab": {
          "base_uri": "https://localhost:8080/"
        },
        "id": "cUj-zzoG16WV",
        "outputId": "f0c04ddf-458d-4197-feea-b26729eb8b32"
      },
      "execution_count": 40,
      "outputs": [
        {
          "output_type": "stream",
          "name": "stdout",
          "text": [
            "Số lượng giá trị thiếu sau bước xử lý đầu tiên:\n",
            "MasVnrType      872\n",
            "LotFrontage     259\n",
            "GarageCond       81\n",
            "GarageFinish     81\n",
            "GarageType       81\n",
            "GarageQual       81\n",
            "GarageYrBlt      81\n",
            "BsmtFinType2     38\n",
            "BsmtExposure     38\n",
            "BsmtQual         37\n",
            "dtype: int64\n"
          ]
        }
      ]
    },
    {
      "cell_type": "code",
      "source": [
        "# Tính giá trị trung vị của cột LotFrontage\n",
        "median_lotfrontage = df['LotFrontage'].median()\n",
        "\n",
        "# Điền các giá trị thiếu trong cột LotFrontage bằng giá trị trung vị\n",
        "df['LotFrontage'] = df['LotFrontage'].fillna(median_lotfrontage)\n",
        "\n",
        "# Kiểm tra lại số lượng giá trị thiếu của cột LotFrontage\n",
        "print(f\"Số lượng giá trị thiếu trong cột LotFrontage sau khi điền: {df['LotFrontage'].isnull().sum()}\")"
      ],
      "metadata": {
        "colab": {
          "base_uri": "https://localhost:8080/"
        },
        "id": "xo2Hrh2033UW",
        "outputId": "0b7fecd4-132f-491e-e086-318602eb94ea"
      },
      "execution_count": 41,
      "outputs": [
        {
          "output_type": "stream",
          "name": "stdout",
          "text": [
            "Số lượng giá trị thiếu trong cột LotFrontage sau khi điền: 0\n"
          ]
        }
      ]
    },
    {
      "cell_type": "markdown",
      "source": [
        "**Lý do tại sao mode thường được sử dụng cho biến phân loại:**\n",
        "\n",
        "Duy trì tính toàn vẹn của dữ liệu: Khác với các biến số, chúng ta không\n",
        "thể tính trung bình hoặc trung vị một cách có ý nghĩa cho các danh mục.\n",
        "\n",
        "Việc điền bằng một danh mục mới có thể làm sai lệch phân phối của biến\n",
        "\n",
        "Giả định hợp lý: Điền bằng mode dựa trên giả định rằng giá trị xuất hiện nhiều nhất có khả năng là giá trị phù hợp nhất để thay thế cho giá trị thiếu, vì nó đại diện cho xu hướng chung của dữ liệu trong cột đó.\n",
        "\n",
        "Tránh tạo ra các giá trị không có nghĩa: Nếu chúng ta điền bằng một giá trị tùy ý không có trong các danh mục hiện có, mô hình có thể học được những mối quan hệ không đúng."
      ],
      "metadata": {
        "id": "qGthmxkc4O4V"
      }
    },
    {
      "cell_type": "code",
      "source": [
        "categorical_cols_with_missing = ['MasVnrType', 'GarageType', 'GarageFinish', 'GarageQual', 'GarageCond',\n",
        "                                'BsmtQual', 'BsmtCond', 'BsmtExposure', 'BsmtFinType1', 'BsmtFinType2',\n",
        "                                'Electrical']\n",
        "\n",
        "for col in categorical_cols_with_missing:\n",
        "    mode_val = df[col].mode()[0]\n",
        "    df[col] = df[col].fillna(mode_val)\n",
        "\n",
        "# Kiểm tra lại số lượng giá trị thiếu sau khi điền\n",
        "missing_values_updated = df.isnull().sum().sort_values(ascending=False)\n",
        "print(\"Số lượng giá trị thiếu sau khi điền cho các cột phân loại:\")\n",
        "print(missing_values_updated[missing_values_updated > 0].head())"
      ],
      "metadata": {
        "colab": {
          "base_uri": "https://localhost:8080/"
        },
        "id": "68hHnRTg4u1v",
        "outputId": "789008ff-3e6b-420f-fefa-e8e04709fb81"
      },
      "execution_count": 42,
      "outputs": [
        {
          "output_type": "stream",
          "name": "stdout",
          "text": [
            "Số lượng giá trị thiếu sau khi điền cho các cột phân loại:\n",
            "GarageYrBlt    81\n",
            "MasVnrArea      8\n",
            "dtype: int64\n"
          ]
        }
      ]
    },
    {
      "cell_type": "code",
      "source": [
        "# Tính giá trị trung vị của MasVnrArea\n",
        "median_masvnrarea = df['MasVnrArea'].median()\n",
        "\n",
        "# Điền các giá trị thiếu trong cột MasVnrArea bằng giá trị trung vị\n",
        "df['MasVnrArea'] = df['MasVnrArea'].fillna(median_masvnrarea)\n",
        "\n",
        "# Tính giá trị trung vị của GarageYrBlt\n",
        "median_garageyrblt = df['GarageYrBlt'].median()\n",
        "\n",
        "# Điền các giá trị thiếu trong cột GarageYrBlt bằng giá trị trung vị\n",
        "df['GarageYrBlt'] = df['GarageYrBlt'].fillna(median_garageyrblt)\n",
        "\n",
        "# Kiểm tra lại số lượng giá trị thiếu sau khi điền\n",
        "missing_values_updated = df.isnull().sum().sort_values(ascending=False)\n",
        "print(\"Số lượng giá trị thiếu sau khi điền cho các cột số còn lại:\")\n",
        "print(missing_values_updated[missing_values_updated > 0])"
      ],
      "metadata": {
        "colab": {
          "base_uri": "https://localhost:8080/"
        },
        "id": "ULMhF4cA5bh7",
        "outputId": "1d56be91-15c4-4b16-83e1-596d68e30e99"
      },
      "execution_count": 43,
      "outputs": [
        {
          "output_type": "stream",
          "name": "stdout",
          "text": [
            "Số lượng giá trị thiếu sau khi điền cho các cột số còn lại:\n",
            "Series([], dtype: int64)\n"
          ]
        }
      ]
    },
    {
      "cell_type": "markdown",
      "source": [
        "***  ta đang có (số và phân loại) nên ta mã hoá thành số để làm việc trong ML. Ta sẽ dùng label encoding và one-hot encoding ***\n",
        "\n",
        "label: dùng cho các bién như xếp hạng, thứ tự (êxcellent, good, ...)\n",
        "\n",
        "one-hot: dùng cho biến màu sắc, các loại (loại nhà...)"
      ],
      "metadata": {
        "id": "CIZctLq-6CXf"
      }
    },
    {
      "cell_type": "code",
      "source": [
        "exter_quality_mapping = {'Po': 1, 'Fa': 2, 'TA': 3, 'Gd': 4, 'Ex': 5}\n",
        "exter_condition_mapping = {'Po': 1, 'Fa': 2, 'TA': 3, 'Gd': 4, 'Ex': 5}\n",
        "\n",
        "# Áp dụng mapping để label encode\n",
        "df['ExterQual'] = df['ExterQual'].map(exter_quality_mapping)\n",
        "df['ExterCond'] = df['ExterCond'].map(exter_condition_mapping)\n",
        "\n",
        "# In ra một vài giá trị để kiểm tra\n",
        "print(\"Giá trị ExterQual sau khi label encoding:\")\n",
        "print(df['ExterQual'].head())\n",
        "print(\"\\nGiá trị ExterCond sau khi label encoding:\")\n",
        "print(df['ExterCond'].head())"
      ],
      "metadata": {
        "colab": {
          "base_uri": "https://localhost:8080/"
        },
        "id": "0jzqez2-6U49",
        "outputId": "0d5927d2-263c-4865-f1fc-df5d5f6c2756"
      },
      "execution_count": 44,
      "outputs": [
        {
          "output_type": "stream",
          "name": "stdout",
          "text": [
            "Giá trị ExterQual sau khi label encoding:\n",
            "0    4\n",
            "1    3\n",
            "2    4\n",
            "3    3\n",
            "4    4\n",
            "Name: ExterQual, dtype: int64\n",
            "\n",
            "Giá trị ExterCond sau khi label encoding:\n",
            "0    3\n",
            "1    3\n",
            "2    3\n",
            "3    3\n",
            "4    3\n",
            "Name: ExterCond, dtype: int64\n"
          ]
        }
      ]
    },
    {
      "cell_type": "code",
      "source": [
        "bsmt_quality_mapping = {'NoBsmt': 0, 'Po': 1, 'Fa': 2, 'TA': 3, 'Gd': 4, 'Ex': 5}\n",
        "bsmt_condition_mapping = {'NoBsmt': 0, 'Po': 1, 'Fa': 2, 'TA': 3, 'Gd': 4, 'Ex': 5}\n",
        "\n",
        "df['BsmtQual'] = df['BsmtQual'].map(bsmt_quality_mapping)\n",
        "df['BsmtCond'] = df['BsmtCond'].map(bsmt_condition_mapping)\n",
        "\n",
        "print(\"Giá trị BsmtQual sau khi label encoding:\")\n",
        "print(df['BsmtQual'].head())\n",
        "print(\"\\nGiá trị BsmtCond sau khi label encoding:\")\n",
        "print(df['BsmtCond'].head())"
      ],
      "metadata": {
        "colab": {
          "base_uri": "https://localhost:8080/"
        },
        "id": "VGuNu6sI8bet",
        "outputId": "03277955-4cfd-478e-a517-ed1b6bab2614"
      },
      "execution_count": 45,
      "outputs": [
        {
          "output_type": "stream",
          "name": "stdout",
          "text": [
            "Giá trị BsmtQual sau khi label encoding:\n",
            "0    4\n",
            "1    4\n",
            "2    4\n",
            "3    3\n",
            "4    4\n",
            "Name: BsmtQual, dtype: int64\n",
            "\n",
            "Giá trị BsmtCond sau khi label encoding:\n",
            "0    3\n",
            "1    3\n",
            "2    3\n",
            "3    4\n",
            "4    3\n",
            "Name: BsmtCond, dtype: int64\n"
          ]
        }
      ]
    },
    {
      "cell_type": "code",
      "source": [
        "# Mapping cho các biến thứ tự\n",
        "lot_shape_mapping = {'Reg': 4, 'IR1': 3, 'IR2': 2, 'IR3': 1}\n",
        "land_slope_mapping = {'Gtl': 3, 'Mod': 2, 'Sev': 1}\n",
        "bsmt_exposure_mapping = {'No': 1, 'Mn': 2, 'Av': 3, 'Gd': 4}\n",
        "bsmt_fin_type_mapping = {'NoBsmt': 0, 'Unf': 1, 'LwQ': 2, 'Rec': 3, 'BLQ': 4, 'ALQ': 5, 'GLQ': 6}\n",
        "heating_qc_mapping = {'Po': 1, 'Fa': 2, 'TA': 3, 'Gd': 4, 'Ex': 5}\n",
        "kitchen_qual_mapping = {'Po': 1, 'Fa': 2, 'TA': 3, 'Gd': 4, 'Ex': 5}\n",
        "functional_mapping = {'Sal': 1, 'Sev': 2, 'Maj2': 3, 'Maj1': 4, 'Mod': 5, 'Min2': 6, 'Min1': 7, 'Typ': 8}\n",
        "fireplace_qu_mapping = {'NoFireplace': 0, 'Po': 1, 'Fa': 2, 'TA': 3, 'Gd': 4, 'Ex': 5}\n",
        "garage_finish_mapping = {'NoGarage': 0, 'Unf': 1, 'RFn': 2, 'Fin': 3}\n",
        "garage_quality_mapping = {'NoGarage': 0, 'Po': 1, 'Fa': 2, 'TA': 3, 'Gd': 4, 'Ex': 5}\n",
        "garage_condition_mapping = {'NoGarage': 0, 'Po': 1, 'Fa': 2, 'TA': 3, 'Gd': 4, 'Ex': 5}\n",
        "paved_drive_mapping = {'N': 1, 'P': 2, 'Y': 3}\n",
        "pool_qc_mapping = {'NoPool': 0, 'Fa': 1, 'TA': 2, 'Gd': 3, 'Ex': 4}\n",
        "fence_mapping = {'NoFence': 0, 'MnWw': 1, 'GdWo': 2, 'MnPrv': 3, 'GdPrv': 4}\n",
        "\n",
        "# Áp dụng mapping cho các cột tương ứng\n",
        "df['LotShape'] = df['LotShape'].map(lot_shape_mapping)\n",
        "df['LandSlope'] = df['LandSlope'].map(land_slope_mapping)\n",
        "df['BsmtExposure'] = df['BsmtExposure'].map(bsmt_exposure_mapping)\n",
        "df['BsmtFinType1'] = df['BsmtFinType1'].map(bsmt_fin_type_mapping)\n",
        "df['BsmtFinType2'] = df['BsmtFinType2'].map(bsmt_fin_type_mapping)\n",
        "df['HeatingQC'] = df['HeatingQC'].map(heating_qc_mapping)\n",
        "df['KitchenQual'] = df['KitchenQual'].map(kitchen_qual_mapping)\n",
        "df['Functional'] = df['Functional'].map(functional_mapping)\n",
        "df['FireplaceQu'] = df['FireplaceQu'].map(fireplace_qu_mapping)\n",
        "df['GarageFinish'] = df['GarageFinish'].map(garage_finish_mapping)\n",
        "df['GarageQual'] = df['GarageQual'].map(garage_quality_mapping)\n",
        "df['GarageCond'] = df['GarageCond'].map(garage_condition_mapping)\n",
        "df['PavedDrive'] = df['PavedDrive'].map(paved_drive_mapping)\n",
        "df['PoolQC'] = df['PoolQC'].map(pool_qc_mapping)\n",
        "df['Fence'] = df['Fence'].map(fence_mapping)\n",
        "\n",
        "# In ra 5 dòng đầu của DataFrame để kiểm tra\n",
        "print(\"5 dòng đầu của DataFrame sau khi Label Encoding:\")\n",
        "print(df.head())"
      ],
      "metadata": {
        "colab": {
          "base_uri": "https://localhost:8080/"
        },
        "id": "AEJ5HSbv8rDz",
        "outputId": "a0266e42-208d-4523-f77e-a733dd42c40d"
      },
      "execution_count": 46,
      "outputs": [
        {
          "output_type": "stream",
          "name": "stdout",
          "text": [
            "5 dòng đầu của DataFrame sau khi Label Encoding:\n",
            "   Id  MSSubClass MSZoning  LotFrontage  LotArea Street    Alley  LotShape  \\\n",
            "0   1          60       RL         65.0     8450   Pave  NoAlley         4   \n",
            "1   2          20       RL         80.0     9600   Pave  NoAlley         4   \n",
            "2   3          60       RL         68.0    11250   Pave  NoAlley         3   \n",
            "3   4          70       RL         60.0     9550   Pave  NoAlley         3   \n",
            "4   5          60       RL         84.0    14260   Pave  NoAlley         3   \n",
            "\n",
            "  LandContour Utilities  ... MoSold  YrSold SaleType SaleCondition SalePrice  \\\n",
            "0         Lvl    AllPub  ...      2    2008       WD        Normal    208500   \n",
            "1         Lvl    AllPub  ...      5    2007       WD        Normal    181500   \n",
            "2         Lvl    AllPub  ...      9    2008       WD        Normal    223500   \n",
            "3         Lvl    AllPub  ...      2    2006       WD       Abnorml    140000   \n",
            "4         Lvl    AllPub  ...     12    2008       WD        Normal    250000   \n",
            "\n",
            "  HasPool HasMiscFeature  HasAlley  HasFence  HasFireplace  \n",
            "0       0              0         0         0             0  \n",
            "1       0              0         0         0             1  \n",
            "2       0              0         0         0             1  \n",
            "3       0              0         0         0             1  \n",
            "4       0              0         0         0             1  \n",
            "\n",
            "[5 rows x 86 columns]\n"
          ]
        }
      ]
    },
    {
      "cell_type": "code",
      "source": [
        "# Lấy danh sách các cột danh nghĩa\n",
        "nominal_cols = ['MSZoning', 'Street', 'Alley', 'LandContour', 'Utilities', 'LotConfig',\n",
        "                'Neighborhood', 'Condition1', 'Condition2', 'BldgType', 'HouseStyle',\n",
        "                'RoofStyle', 'RoofMatl', 'Exterior1st', 'Exterior2nd', 'MasVnrType',\n",
        "                'CentralAir', 'Electrical', 'SaleType', 'SaleCondition','Heating',\n",
        "                'GarageType', 'MiscFeature']\n",
        "\n",
        "# Áp dụng One-Hot Encoding\n",
        "df = pd.get_dummies(df, columns=nominal_cols, drop_first=True)\n",
        "\n",
        "# In ra hình dạng mới của DataFrame\n",
        "print(\"Hình dạng mới của DataFrame sau One-Hot Encoding:\", df.shape)\n",
        "print(\"\\n5 dòng đầu của DataFrame sau One-Hot Encoding:\")\n",
        "print(df.head())"
      ],
      "metadata": {
        "colab": {
          "base_uri": "https://localhost:8080/"
        },
        "id": "IX7IFA989CyU",
        "outputId": "76f97963-d19a-4b36-9d06-e3f78d22abbd"
      },
      "execution_count": 47,
      "outputs": [
        {
          "output_type": "stream",
          "name": "stdout",
          "text": [
            "Hình dạng mới của DataFrame sau One-Hot Encoding: (1460, 203)\n",
            "\n",
            "5 dòng đầu của DataFrame sau One-Hot Encoding:\n",
            "   Id  MSSubClass  LotFrontage  LotArea  LotShape  LandSlope  OverallQual  \\\n",
            "0   1          60         65.0     8450         4          3            7   \n",
            "1   2          20         80.0     9600         4          3            6   \n",
            "2   3          60         68.0    11250         3          3            7   \n",
            "3   4          70         60.0     9550         3          3            7   \n",
            "4   5          60         84.0    14260         3          3            8   \n",
            "\n",
            "   OverallCond  YearBuilt  YearRemodAdd  ...  Heating_Wall  GarageType_Attchd  \\\n",
            "0            5       2003          2003  ...         False               True   \n",
            "1            8       1976          1976  ...         False               True   \n",
            "2            5       2001          2002  ...         False               True   \n",
            "3            5       1915          1970  ...         False              False   \n",
            "4            5       2000          2000  ...         False               True   \n",
            "\n",
            "   GarageType_Basment GarageType_BuiltIn  GarageType_CarPort  \\\n",
            "0               False              False               False   \n",
            "1               False              False               False   \n",
            "2               False              False               False   \n",
            "3               False              False               False   \n",
            "4               False              False               False   \n",
            "\n",
            "   GarageType_Detchd  MiscFeature_None  MiscFeature_Othr  MiscFeature_Shed  \\\n",
            "0              False              True             False             False   \n",
            "1              False              True             False             False   \n",
            "2              False              True             False             False   \n",
            "3               True              True             False             False   \n",
            "4              False              True             False             False   \n",
            "\n",
            "   MiscFeature_TenC  \n",
            "0             False  \n",
            "1             False  \n",
            "2             False  \n",
            "3             False  \n",
            "4             False  \n",
            "\n",
            "[5 rows x 203 columns]\n"
          ]
        }
      ]
    },
    {
      "cell_type": "markdown",
      "source": [
        "### Ta đến với bước chia dữ liệu thành tập huấn luyện và tập test"
      ],
      "metadata": {
        "id": "SkMrwKw-GXO4"
      }
    },
    {
      "cell_type": "code",
      "source": [
        "# Xác định biến mục tiêu (y) và các biến độc lập (X)\n",
        "X = df.drop('SalePrice', axis=1)\n",
        "y = df['SalePrice']\n",
        "\n",
        "# Chia dữ liệu thành tập huấn luyện và tập kiểm tra\n",
        "X_train, X_test, y_train, y_test = train_test_split(X, y, test_size=0.2, random_state=42)\n",
        "\n",
        "# In ra hình dạng của các tập dữ liệu\n",
        "print(\"Hình dạng của X_train:\", X_train.shape)\n",
        "print(\"Hình dạng của X_test:\", X_test.shape)\n",
        "print(\"Hình dạng của y_train:\", y_train.shape)\n",
        "print(\"Hình dạng của y_test:\", y_test.shape)"
      ],
      "metadata": {
        "colab": {
          "base_uri": "https://localhost:8080/"
        },
        "id": "LreJg5MMGWjz",
        "outputId": "1d34c598-6ea1-4398-acd1-e8c68e4124bf"
      },
      "execution_count": 48,
      "outputs": [
        {
          "output_type": "stream",
          "name": "stdout",
          "text": [
            "Hình dạng của X_train: (1168, 202)\n",
            "Hình dạng của X_test: (292, 202)\n",
            "Hình dạng của y_train: (1168,)\n",
            "Hình dạng của y_test: (292,)\n"
          ]
        }
      ]
    },
    {
      "cell_type": "markdown",
      "source": [
        "***\n",
        "Huấn luyện với mô hình Linear Regression\n",
        "***"
      ],
      "metadata": {
        "id": "C8fVbyu3HcCK"
      }
    },
    {
      "cell_type": "code",
      "source": [
        "# Khởi tạo mô hình Linear Regression\n",
        "linear_model = LinearRegression()\n",
        "\n",
        "# Huấn luyện mô hình trên dữ liệu huấn luyện\n",
        "linear_model.fit(X_train, y_train)\n",
        "\n",
        "print(\"Mô hình Linear Regression đã được huấn luyện!\")"
      ],
      "metadata": {
        "colab": {
          "base_uri": "https://localhost:8080/",
          "height": 356
        },
        "id": "L_JRtm3IN5Au",
        "outputId": "bb9b9f61-93cd-46af-e1b6-cfe3e468ca2f"
      },
      "execution_count": 49,
      "outputs": [
        {
          "output_type": "error",
          "ename": "ValueError",
          "evalue": "could not convert string to float: 'CBlock'",
          "traceback": [
            "\u001b[0;31m---------------------------------------------------------------------------\u001b[0m",
            "\u001b[0;31mValueError\u001b[0m                                Traceback (most recent call last)",
            "\u001b[0;32m<ipython-input-49-9d6a688e3946>\u001b[0m in \u001b[0;36m<cell line: 0>\u001b[0;34m()\u001b[0m\n\u001b[1;32m      3\u001b[0m \u001b[0;34m\u001b[0m\u001b[0m\n\u001b[1;32m      4\u001b[0m \u001b[0;31m# Huấn luyện mô hình trên dữ liệu huấn luyện\u001b[0m\u001b[0;34m\u001b[0m\u001b[0;34m\u001b[0m\u001b[0m\n\u001b[0;32m----> 5\u001b[0;31m \u001b[0mlinear_model\u001b[0m\u001b[0;34m.\u001b[0m\u001b[0mfit\u001b[0m\u001b[0;34m(\u001b[0m\u001b[0mX_train\u001b[0m\u001b[0;34m,\u001b[0m \u001b[0my_train\u001b[0m\u001b[0;34m)\u001b[0m\u001b[0;34m\u001b[0m\u001b[0;34m\u001b[0m\u001b[0m\n\u001b[0m\u001b[1;32m      6\u001b[0m \u001b[0;34m\u001b[0m\u001b[0m\n\u001b[1;32m      7\u001b[0m \u001b[0mprint\u001b[0m\u001b[0;34m(\u001b[0m\u001b[0;34m\"Mô hình Linear Regression đã được huấn luyện!\"\u001b[0m\u001b[0;34m)\u001b[0m\u001b[0;34m\u001b[0m\u001b[0;34m\u001b[0m\u001b[0m\n",
            "\u001b[0;32m/usr/local/lib/python3.11/dist-packages/sklearn/base.py\u001b[0m in \u001b[0;36mwrapper\u001b[0;34m(estimator, *args, **kwargs)\u001b[0m\n\u001b[1;32m   1387\u001b[0m                 )\n\u001b[1;32m   1388\u001b[0m             ):\n\u001b[0;32m-> 1389\u001b[0;31m                 \u001b[0;32mreturn\u001b[0m \u001b[0mfit_method\u001b[0m\u001b[0;34m(\u001b[0m\u001b[0mestimator\u001b[0m\u001b[0;34m,\u001b[0m \u001b[0;34m*\u001b[0m\u001b[0margs\u001b[0m\u001b[0;34m,\u001b[0m \u001b[0;34m**\u001b[0m\u001b[0mkwargs\u001b[0m\u001b[0;34m)\u001b[0m\u001b[0;34m\u001b[0m\u001b[0;34m\u001b[0m\u001b[0m\n\u001b[0m\u001b[1;32m   1390\u001b[0m \u001b[0;34m\u001b[0m\u001b[0m\n\u001b[1;32m   1391\u001b[0m         \u001b[0;32mreturn\u001b[0m \u001b[0mwrapper\u001b[0m\u001b[0;34m\u001b[0m\u001b[0;34m\u001b[0m\u001b[0m\n",
            "\u001b[0;32m/usr/local/lib/python3.11/dist-packages/sklearn/linear_model/_base.py\u001b[0m in \u001b[0;36mfit\u001b[0;34m(self, X, y, sample_weight)\u001b[0m\n\u001b[1;32m    599\u001b[0m         \u001b[0maccept_sparse\u001b[0m \u001b[0;34m=\u001b[0m \u001b[0;32mFalse\u001b[0m \u001b[0;32mif\u001b[0m \u001b[0mself\u001b[0m\u001b[0;34m.\u001b[0m\u001b[0mpositive\u001b[0m \u001b[0;32melse\u001b[0m \u001b[0;34m[\u001b[0m\u001b[0;34m\"csr\"\u001b[0m\u001b[0;34m,\u001b[0m \u001b[0;34m\"csc\"\u001b[0m\u001b[0;34m,\u001b[0m \u001b[0;34m\"coo\"\u001b[0m\u001b[0;34m]\u001b[0m\u001b[0;34m\u001b[0m\u001b[0;34m\u001b[0m\u001b[0m\n\u001b[1;32m    600\u001b[0m \u001b[0;34m\u001b[0m\u001b[0m\n\u001b[0;32m--> 601\u001b[0;31m         X, y = validate_data(\n\u001b[0m\u001b[1;32m    602\u001b[0m             \u001b[0mself\u001b[0m\u001b[0;34m,\u001b[0m\u001b[0;34m\u001b[0m\u001b[0;34m\u001b[0m\u001b[0m\n\u001b[1;32m    603\u001b[0m             \u001b[0mX\u001b[0m\u001b[0;34m,\u001b[0m\u001b[0;34m\u001b[0m\u001b[0;34m\u001b[0m\u001b[0m\n",
            "\u001b[0;32m/usr/local/lib/python3.11/dist-packages/sklearn/utils/validation.py\u001b[0m in \u001b[0;36mvalidate_data\u001b[0;34m(_estimator, X, y, reset, validate_separately, skip_check_array, **check_params)\u001b[0m\n\u001b[1;32m   2959\u001b[0m             \u001b[0my\u001b[0m \u001b[0;34m=\u001b[0m \u001b[0mcheck_array\u001b[0m\u001b[0;34m(\u001b[0m\u001b[0my\u001b[0m\u001b[0;34m,\u001b[0m \u001b[0minput_name\u001b[0m\u001b[0;34m=\u001b[0m\u001b[0;34m\"y\"\u001b[0m\u001b[0;34m,\u001b[0m \u001b[0;34m**\u001b[0m\u001b[0mcheck_y_params\u001b[0m\u001b[0;34m)\u001b[0m\u001b[0;34m\u001b[0m\u001b[0;34m\u001b[0m\u001b[0m\n\u001b[1;32m   2960\u001b[0m         \u001b[0;32melse\u001b[0m\u001b[0;34m:\u001b[0m\u001b[0;34m\u001b[0m\u001b[0;34m\u001b[0m\u001b[0m\n\u001b[0;32m-> 2961\u001b[0;31m             \u001b[0mX\u001b[0m\u001b[0;34m,\u001b[0m \u001b[0my\u001b[0m \u001b[0;34m=\u001b[0m \u001b[0mcheck_X_y\u001b[0m\u001b[0;34m(\u001b[0m\u001b[0mX\u001b[0m\u001b[0;34m,\u001b[0m \u001b[0my\u001b[0m\u001b[0;34m,\u001b[0m \u001b[0;34m**\u001b[0m\u001b[0mcheck_params\u001b[0m\u001b[0;34m)\u001b[0m\u001b[0;34m\u001b[0m\u001b[0;34m\u001b[0m\u001b[0m\n\u001b[0m\u001b[1;32m   2962\u001b[0m         \u001b[0mout\u001b[0m \u001b[0;34m=\u001b[0m \u001b[0mX\u001b[0m\u001b[0;34m,\u001b[0m \u001b[0my\u001b[0m\u001b[0;34m\u001b[0m\u001b[0;34m\u001b[0m\u001b[0m\n\u001b[1;32m   2963\u001b[0m \u001b[0;34m\u001b[0m\u001b[0m\n",
            "\u001b[0;32m/usr/local/lib/python3.11/dist-packages/sklearn/utils/validation.py\u001b[0m in \u001b[0;36mcheck_X_y\u001b[0;34m(X, y, accept_sparse, accept_large_sparse, dtype, order, copy, force_writeable, force_all_finite, ensure_all_finite, ensure_2d, allow_nd, multi_output, ensure_min_samples, ensure_min_features, y_numeric, estimator)\u001b[0m\n\u001b[1;32m   1368\u001b[0m     \u001b[0mensure_all_finite\u001b[0m \u001b[0;34m=\u001b[0m \u001b[0m_deprecate_force_all_finite\u001b[0m\u001b[0;34m(\u001b[0m\u001b[0mforce_all_finite\u001b[0m\u001b[0;34m,\u001b[0m \u001b[0mensure_all_finite\u001b[0m\u001b[0;34m)\u001b[0m\u001b[0;34m\u001b[0m\u001b[0;34m\u001b[0m\u001b[0m\n\u001b[1;32m   1369\u001b[0m \u001b[0;34m\u001b[0m\u001b[0m\n\u001b[0;32m-> 1370\u001b[0;31m     X = check_array(\n\u001b[0m\u001b[1;32m   1371\u001b[0m         \u001b[0mX\u001b[0m\u001b[0;34m,\u001b[0m\u001b[0;34m\u001b[0m\u001b[0;34m\u001b[0m\u001b[0m\n\u001b[1;32m   1372\u001b[0m         \u001b[0maccept_sparse\u001b[0m\u001b[0;34m=\u001b[0m\u001b[0maccept_sparse\u001b[0m\u001b[0;34m,\u001b[0m\u001b[0;34m\u001b[0m\u001b[0;34m\u001b[0m\u001b[0m\n",
            "\u001b[0;32m/usr/local/lib/python3.11/dist-packages/sklearn/utils/validation.py\u001b[0m in \u001b[0;36mcheck_array\u001b[0;34m(array, accept_sparse, accept_large_sparse, dtype, order, copy, force_writeable, force_all_finite, ensure_all_finite, ensure_non_negative, ensure_2d, allow_nd, ensure_min_samples, ensure_min_features, estimator, input_name)\u001b[0m\n\u001b[1;32m    971\u001b[0m         \u001b[0;31m# Use the original dtype for conversion if dtype is None\u001b[0m\u001b[0;34m\u001b[0m\u001b[0;34m\u001b[0m\u001b[0m\n\u001b[1;32m    972\u001b[0m         \u001b[0mnew_dtype\u001b[0m \u001b[0;34m=\u001b[0m \u001b[0mdtype_orig\u001b[0m \u001b[0;32mif\u001b[0m \u001b[0mdtype\u001b[0m \u001b[0;32mis\u001b[0m \u001b[0;32mNone\u001b[0m \u001b[0;32melse\u001b[0m \u001b[0mdtype\u001b[0m\u001b[0;34m\u001b[0m\u001b[0;34m\u001b[0m\u001b[0m\n\u001b[0;32m--> 973\u001b[0;31m         \u001b[0marray\u001b[0m \u001b[0;34m=\u001b[0m \u001b[0marray\u001b[0m\u001b[0;34m.\u001b[0m\u001b[0mastype\u001b[0m\u001b[0;34m(\u001b[0m\u001b[0mnew_dtype\u001b[0m\u001b[0;34m)\u001b[0m\u001b[0;34m\u001b[0m\u001b[0;34m\u001b[0m\u001b[0m\n\u001b[0m\u001b[1;32m    974\u001b[0m         \u001b[0;31m# Since we converted here, we do not need to convert again later\u001b[0m\u001b[0;34m\u001b[0m\u001b[0;34m\u001b[0m\u001b[0m\n\u001b[1;32m    975\u001b[0m         \u001b[0mdtype\u001b[0m \u001b[0;34m=\u001b[0m \u001b[0;32mNone\u001b[0m\u001b[0;34m\u001b[0m\u001b[0;34m\u001b[0m\u001b[0m\n",
            "\u001b[0;32m/usr/local/lib/python3.11/dist-packages/pandas/core/generic.py\u001b[0m in \u001b[0;36mastype\u001b[0;34m(self, dtype, copy, errors)\u001b[0m\n\u001b[1;32m   6641\u001b[0m         \u001b[0;32melse\u001b[0m\u001b[0;34m:\u001b[0m\u001b[0;34m\u001b[0m\u001b[0;34m\u001b[0m\u001b[0m\n\u001b[1;32m   6642\u001b[0m             \u001b[0;31m# else, only a single dtype is given\u001b[0m\u001b[0;34m\u001b[0m\u001b[0;34m\u001b[0m\u001b[0m\n\u001b[0;32m-> 6643\u001b[0;31m             \u001b[0mnew_data\u001b[0m \u001b[0;34m=\u001b[0m \u001b[0mself\u001b[0m\u001b[0;34m.\u001b[0m\u001b[0m_mgr\u001b[0m\u001b[0;34m.\u001b[0m\u001b[0mastype\u001b[0m\u001b[0;34m(\u001b[0m\u001b[0mdtype\u001b[0m\u001b[0;34m=\u001b[0m\u001b[0mdtype\u001b[0m\u001b[0;34m,\u001b[0m \u001b[0mcopy\u001b[0m\u001b[0;34m=\u001b[0m\u001b[0mcopy\u001b[0m\u001b[0;34m,\u001b[0m \u001b[0merrors\u001b[0m\u001b[0;34m=\u001b[0m\u001b[0merrors\u001b[0m\u001b[0;34m)\u001b[0m\u001b[0;34m\u001b[0m\u001b[0;34m\u001b[0m\u001b[0m\n\u001b[0m\u001b[1;32m   6644\u001b[0m             \u001b[0mres\u001b[0m \u001b[0;34m=\u001b[0m \u001b[0mself\u001b[0m\u001b[0;34m.\u001b[0m\u001b[0m_constructor_from_mgr\u001b[0m\u001b[0;34m(\u001b[0m\u001b[0mnew_data\u001b[0m\u001b[0;34m,\u001b[0m \u001b[0maxes\u001b[0m\u001b[0;34m=\u001b[0m\u001b[0mnew_data\u001b[0m\u001b[0;34m.\u001b[0m\u001b[0maxes\u001b[0m\u001b[0;34m)\u001b[0m\u001b[0;34m\u001b[0m\u001b[0;34m\u001b[0m\u001b[0m\n\u001b[1;32m   6645\u001b[0m             \u001b[0;32mreturn\u001b[0m \u001b[0mres\u001b[0m\u001b[0;34m.\u001b[0m\u001b[0m__finalize__\u001b[0m\u001b[0;34m(\u001b[0m\u001b[0mself\u001b[0m\u001b[0;34m,\u001b[0m \u001b[0mmethod\u001b[0m\u001b[0;34m=\u001b[0m\u001b[0;34m\"astype\"\u001b[0m\u001b[0;34m)\u001b[0m\u001b[0;34m\u001b[0m\u001b[0;34m\u001b[0m\u001b[0m\n",
            "\u001b[0;32m/usr/local/lib/python3.11/dist-packages/pandas/core/internals/managers.py\u001b[0m in \u001b[0;36mastype\u001b[0;34m(self, dtype, copy, errors)\u001b[0m\n\u001b[1;32m    428\u001b[0m             \u001b[0mcopy\u001b[0m \u001b[0;34m=\u001b[0m \u001b[0;32mFalse\u001b[0m\u001b[0;34m\u001b[0m\u001b[0;34m\u001b[0m\u001b[0m\n\u001b[1;32m    429\u001b[0m \u001b[0;34m\u001b[0m\u001b[0m\n\u001b[0;32m--> 430\u001b[0;31m         return self.apply(\n\u001b[0m\u001b[1;32m    431\u001b[0m             \u001b[0;34m\"astype\"\u001b[0m\u001b[0;34m,\u001b[0m\u001b[0;34m\u001b[0m\u001b[0;34m\u001b[0m\u001b[0m\n\u001b[1;32m    432\u001b[0m             \u001b[0mdtype\u001b[0m\u001b[0;34m=\u001b[0m\u001b[0mdtype\u001b[0m\u001b[0;34m,\u001b[0m\u001b[0;34m\u001b[0m\u001b[0;34m\u001b[0m\u001b[0m\n",
            "\u001b[0;32m/usr/local/lib/python3.11/dist-packages/pandas/core/internals/managers.py\u001b[0m in \u001b[0;36mapply\u001b[0;34m(self, f, align_keys, **kwargs)\u001b[0m\n\u001b[1;32m    361\u001b[0m                 \u001b[0mapplied\u001b[0m \u001b[0;34m=\u001b[0m \u001b[0mb\u001b[0m\u001b[0;34m.\u001b[0m\u001b[0mapply\u001b[0m\u001b[0;34m(\u001b[0m\u001b[0mf\u001b[0m\u001b[0;34m,\u001b[0m \u001b[0;34m**\u001b[0m\u001b[0mkwargs\u001b[0m\u001b[0;34m)\u001b[0m\u001b[0;34m\u001b[0m\u001b[0;34m\u001b[0m\u001b[0m\n\u001b[1;32m    362\u001b[0m             \u001b[0;32melse\u001b[0m\u001b[0;34m:\u001b[0m\u001b[0;34m\u001b[0m\u001b[0;34m\u001b[0m\u001b[0m\n\u001b[0;32m--> 363\u001b[0;31m                 \u001b[0mapplied\u001b[0m \u001b[0;34m=\u001b[0m \u001b[0mgetattr\u001b[0m\u001b[0;34m(\u001b[0m\u001b[0mb\u001b[0m\u001b[0;34m,\u001b[0m \u001b[0mf\u001b[0m\u001b[0;34m)\u001b[0m\u001b[0;34m(\u001b[0m\u001b[0;34m**\u001b[0m\u001b[0mkwargs\u001b[0m\u001b[0;34m)\u001b[0m\u001b[0;34m\u001b[0m\u001b[0;34m\u001b[0m\u001b[0m\n\u001b[0m\u001b[1;32m    364\u001b[0m             \u001b[0mresult_blocks\u001b[0m \u001b[0;34m=\u001b[0m \u001b[0mextend_blocks\u001b[0m\u001b[0;34m(\u001b[0m\u001b[0mapplied\u001b[0m\u001b[0;34m,\u001b[0m \u001b[0mresult_blocks\u001b[0m\u001b[0;34m)\u001b[0m\u001b[0;34m\u001b[0m\u001b[0;34m\u001b[0m\u001b[0m\n\u001b[1;32m    365\u001b[0m \u001b[0;34m\u001b[0m\u001b[0m\n",
            "\u001b[0;32m/usr/local/lib/python3.11/dist-packages/pandas/core/internals/blocks.py\u001b[0m in \u001b[0;36mastype\u001b[0;34m(self, dtype, copy, errors, using_cow, squeeze)\u001b[0m\n\u001b[1;32m    756\u001b[0m             \u001b[0mvalues\u001b[0m \u001b[0;34m=\u001b[0m \u001b[0mvalues\u001b[0m\u001b[0;34m[\u001b[0m\u001b[0;36m0\u001b[0m\u001b[0;34m,\u001b[0m \u001b[0;34m:\u001b[0m\u001b[0;34m]\u001b[0m  \u001b[0;31m# type: ignore[call-overload]\u001b[0m\u001b[0;34m\u001b[0m\u001b[0;34m\u001b[0m\u001b[0m\n\u001b[1;32m    757\u001b[0m \u001b[0;34m\u001b[0m\u001b[0m\n\u001b[0;32m--> 758\u001b[0;31m         \u001b[0mnew_values\u001b[0m \u001b[0;34m=\u001b[0m \u001b[0mastype_array_safe\u001b[0m\u001b[0;34m(\u001b[0m\u001b[0mvalues\u001b[0m\u001b[0;34m,\u001b[0m \u001b[0mdtype\u001b[0m\u001b[0;34m,\u001b[0m \u001b[0mcopy\u001b[0m\u001b[0;34m=\u001b[0m\u001b[0mcopy\u001b[0m\u001b[0;34m,\u001b[0m \u001b[0merrors\u001b[0m\u001b[0;34m=\u001b[0m\u001b[0merrors\u001b[0m\u001b[0;34m)\u001b[0m\u001b[0;34m\u001b[0m\u001b[0;34m\u001b[0m\u001b[0m\n\u001b[0m\u001b[1;32m    759\u001b[0m \u001b[0;34m\u001b[0m\u001b[0m\n\u001b[1;32m    760\u001b[0m         \u001b[0mnew_values\u001b[0m \u001b[0;34m=\u001b[0m \u001b[0mmaybe_coerce_values\u001b[0m\u001b[0;34m(\u001b[0m\u001b[0mnew_values\u001b[0m\u001b[0;34m)\u001b[0m\u001b[0;34m\u001b[0m\u001b[0;34m\u001b[0m\u001b[0m\n",
            "\u001b[0;32m/usr/local/lib/python3.11/dist-packages/pandas/core/dtypes/astype.py\u001b[0m in \u001b[0;36mastype_array_safe\u001b[0;34m(values, dtype, copy, errors)\u001b[0m\n\u001b[1;32m    235\u001b[0m \u001b[0;34m\u001b[0m\u001b[0m\n\u001b[1;32m    236\u001b[0m     \u001b[0;32mtry\u001b[0m\u001b[0;34m:\u001b[0m\u001b[0;34m\u001b[0m\u001b[0;34m\u001b[0m\u001b[0m\n\u001b[0;32m--> 237\u001b[0;31m         \u001b[0mnew_values\u001b[0m \u001b[0;34m=\u001b[0m \u001b[0mastype_array\u001b[0m\u001b[0;34m(\u001b[0m\u001b[0mvalues\u001b[0m\u001b[0;34m,\u001b[0m \u001b[0mdtype\u001b[0m\u001b[0;34m,\u001b[0m \u001b[0mcopy\u001b[0m\u001b[0;34m=\u001b[0m\u001b[0mcopy\u001b[0m\u001b[0;34m)\u001b[0m\u001b[0;34m\u001b[0m\u001b[0;34m\u001b[0m\u001b[0m\n\u001b[0m\u001b[1;32m    238\u001b[0m     \u001b[0;32mexcept\u001b[0m \u001b[0;34m(\u001b[0m\u001b[0mValueError\u001b[0m\u001b[0;34m,\u001b[0m \u001b[0mTypeError\u001b[0m\u001b[0;34m)\u001b[0m\u001b[0;34m:\u001b[0m\u001b[0;34m\u001b[0m\u001b[0;34m\u001b[0m\u001b[0m\n\u001b[1;32m    239\u001b[0m         \u001b[0;31m# e.g. _astype_nansafe can fail on object-dtype of strings\u001b[0m\u001b[0;34m\u001b[0m\u001b[0;34m\u001b[0m\u001b[0m\n",
            "\u001b[0;32m/usr/local/lib/python3.11/dist-packages/pandas/core/dtypes/astype.py\u001b[0m in \u001b[0;36mastype_array\u001b[0;34m(values, dtype, copy)\u001b[0m\n\u001b[1;32m    180\u001b[0m \u001b[0;34m\u001b[0m\u001b[0m\n\u001b[1;32m    181\u001b[0m     \u001b[0;32melse\u001b[0m\u001b[0;34m:\u001b[0m\u001b[0;34m\u001b[0m\u001b[0;34m\u001b[0m\u001b[0m\n\u001b[0;32m--> 182\u001b[0;31m         \u001b[0mvalues\u001b[0m \u001b[0;34m=\u001b[0m \u001b[0m_astype_nansafe\u001b[0m\u001b[0;34m(\u001b[0m\u001b[0mvalues\u001b[0m\u001b[0;34m,\u001b[0m \u001b[0mdtype\u001b[0m\u001b[0;34m,\u001b[0m \u001b[0mcopy\u001b[0m\u001b[0;34m=\u001b[0m\u001b[0mcopy\u001b[0m\u001b[0;34m)\u001b[0m\u001b[0;34m\u001b[0m\u001b[0;34m\u001b[0m\u001b[0m\n\u001b[0m\u001b[1;32m    183\u001b[0m \u001b[0;34m\u001b[0m\u001b[0m\n\u001b[1;32m    184\u001b[0m     \u001b[0;31m# in pandas we don't store numpy str dtypes, so convert to object\u001b[0m\u001b[0;34m\u001b[0m\u001b[0;34m\u001b[0m\u001b[0m\n",
            "\u001b[0;32m/usr/local/lib/python3.11/dist-packages/pandas/core/dtypes/astype.py\u001b[0m in \u001b[0;36m_astype_nansafe\u001b[0;34m(arr, dtype, copy, skipna)\u001b[0m\n\u001b[1;32m    131\u001b[0m     \u001b[0;32mif\u001b[0m \u001b[0mcopy\u001b[0m \u001b[0;32mor\u001b[0m \u001b[0marr\u001b[0m\u001b[0;34m.\u001b[0m\u001b[0mdtype\u001b[0m \u001b[0;34m==\u001b[0m \u001b[0mobject\u001b[0m \u001b[0;32mor\u001b[0m \u001b[0mdtype\u001b[0m \u001b[0;34m==\u001b[0m \u001b[0mobject\u001b[0m\u001b[0;34m:\u001b[0m\u001b[0;34m\u001b[0m\u001b[0;34m\u001b[0m\u001b[0m\n\u001b[1;32m    132\u001b[0m         \u001b[0;31m# Explicit copy, or required since NumPy can't view from / to object.\u001b[0m\u001b[0;34m\u001b[0m\u001b[0;34m\u001b[0m\u001b[0m\n\u001b[0;32m--> 133\u001b[0;31m         \u001b[0;32mreturn\u001b[0m \u001b[0marr\u001b[0m\u001b[0;34m.\u001b[0m\u001b[0mastype\u001b[0m\u001b[0;34m(\u001b[0m\u001b[0mdtype\u001b[0m\u001b[0;34m,\u001b[0m \u001b[0mcopy\u001b[0m\u001b[0;34m=\u001b[0m\u001b[0;32mTrue\u001b[0m\u001b[0;34m)\u001b[0m\u001b[0;34m\u001b[0m\u001b[0;34m\u001b[0m\u001b[0m\n\u001b[0m\u001b[1;32m    134\u001b[0m \u001b[0;34m\u001b[0m\u001b[0m\n\u001b[1;32m    135\u001b[0m     \u001b[0;32mreturn\u001b[0m \u001b[0marr\u001b[0m\u001b[0;34m.\u001b[0m\u001b[0mastype\u001b[0m\u001b[0;34m(\u001b[0m\u001b[0mdtype\u001b[0m\u001b[0;34m,\u001b[0m \u001b[0mcopy\u001b[0m\u001b[0;34m=\u001b[0m\u001b[0mcopy\u001b[0m\u001b[0;34m)\u001b[0m\u001b[0;34m\u001b[0m\u001b[0;34m\u001b[0m\u001b[0m\n",
            "\u001b[0;31mValueError\u001b[0m: could not convert string to float: 'CBlock'"
          ]
        }
      ]
    },
    {
      "cell_type": "markdown",
      "source": [
        "Do lỗi còn string khi ta chưa mã hoá hết nên khi huấn luyện mô hình sẽ không hiểu dtype: object"
      ],
      "metadata": {
        "id": "yXLNnhGwP2Tf"
      }
    },
    {
      "cell_type": "code",
      "source": [
        "print(X_train.dtypes)"
      ],
      "metadata": {
        "colab": {
          "base_uri": "https://localhost:8080/"
        },
        "id": "2_c5ddi6Oe04",
        "outputId": "d85c69e1-c83e-4c0d-cc8f-9ba51fd31e37"
      },
      "execution_count": 50,
      "outputs": [
        {
          "output_type": "stream",
          "name": "stdout",
          "text": [
            "Id                     int64\n",
            "MSSubClass             int64\n",
            "LotFrontage          float64\n",
            "LotArea                int64\n",
            "LotShape               int64\n",
            "                      ...   \n",
            "GarageType_Detchd       bool\n",
            "MiscFeature_None        bool\n",
            "MiscFeature_Othr        bool\n",
            "MiscFeature_Shed        bool\n",
            "MiscFeature_TenC        bool\n",
            "Length: 202, dtype: object\n"
          ]
        }
      ]
    },
    {
      "cell_type": "code",
      "source": [
        "for col in X_train.columns:\n",
        "    try:\n",
        "        first_value = X_train[col].iloc[0]\n",
        "        # Nếu không có lỗi, in ra tên cột và kiểu dữ liệu của giá trị đầu tiên\n",
        "        print(f\"Cột '{col}': Kiểu dữ liệu của giá trị đầu tiên là {type(first_value)}\")\n",
        "    except Exception as e:\n",
        "        print(f\"Lỗi khi truy cập cột '{col}': {e}\")"
      ],
      "metadata": {
        "colab": {
          "base_uri": "https://localhost:8080/"
        },
        "id": "pDFG9LPTOuLP",
        "outputId": "8f59861c-829b-4708-dcd3-4c2dafa46b44"
      },
      "execution_count": 51,
      "outputs": [
        {
          "output_type": "stream",
          "name": "stdout",
          "text": [
            "Cột 'Id': Kiểu dữ liệu của giá trị đầu tiên là <class 'numpy.int64'>\n",
            "Cột 'MSSubClass': Kiểu dữ liệu của giá trị đầu tiên là <class 'numpy.int64'>\n",
            "Cột 'LotFrontage': Kiểu dữ liệu của giá trị đầu tiên là <class 'numpy.float64'>\n",
            "Cột 'LotArea': Kiểu dữ liệu của giá trị đầu tiên là <class 'numpy.int64'>\n",
            "Cột 'LotShape': Kiểu dữ liệu của giá trị đầu tiên là <class 'numpy.int64'>\n",
            "Cột 'LandSlope': Kiểu dữ liệu của giá trị đầu tiên là <class 'numpy.int64'>\n",
            "Cột 'OverallQual': Kiểu dữ liệu của giá trị đầu tiên là <class 'numpy.int64'>\n",
            "Cột 'OverallCond': Kiểu dữ liệu của giá trị đầu tiên là <class 'numpy.int64'>\n",
            "Cột 'YearBuilt': Kiểu dữ liệu của giá trị đầu tiên là <class 'numpy.int64'>\n",
            "Cột 'YearRemodAdd': Kiểu dữ liệu của giá trị đầu tiên là <class 'numpy.int64'>\n",
            "Cột 'MasVnrArea': Kiểu dữ liệu của giá trị đầu tiên là <class 'numpy.float64'>\n",
            "Cột 'ExterQual': Kiểu dữ liệu của giá trị đầu tiên là <class 'numpy.int64'>\n",
            "Cột 'ExterCond': Kiểu dữ liệu của giá trị đầu tiên là <class 'numpy.int64'>\n",
            "Cột 'Foundation': Kiểu dữ liệu của giá trị đầu tiên là <class 'str'>\n",
            "Cột 'BsmtQual': Kiểu dữ liệu của giá trị đầu tiên là <class 'numpy.int64'>\n",
            "Cột 'BsmtCond': Kiểu dữ liệu của giá trị đầu tiên là <class 'numpy.int64'>\n",
            "Cột 'BsmtExposure': Kiểu dữ liệu của giá trị đầu tiên là <class 'numpy.int64'>\n",
            "Cột 'BsmtFinType1': Kiểu dữ liệu của giá trị đầu tiên là <class 'numpy.int64'>\n",
            "Cột 'BsmtFinSF1': Kiểu dữ liệu của giá trị đầu tiên là <class 'numpy.int64'>\n",
            "Cột 'BsmtFinType2': Kiểu dữ liệu của giá trị đầu tiên là <class 'numpy.int64'>\n",
            "Cột 'BsmtFinSF2': Kiểu dữ liệu của giá trị đầu tiên là <class 'numpy.int64'>\n",
            "Cột 'BsmtUnfSF': Kiểu dữ liệu của giá trị đầu tiên là <class 'numpy.int64'>\n",
            "Cột 'TotalBsmtSF': Kiểu dữ liệu của giá trị đầu tiên là <class 'numpy.int64'>\n",
            "Cột 'HeatingQC': Kiểu dữ liệu của giá trị đầu tiên là <class 'numpy.int64'>\n",
            "Cột '1stFlrSF': Kiểu dữ liệu của giá trị đầu tiên là <class 'numpy.int64'>\n",
            "Cột '2ndFlrSF': Kiểu dữ liệu của giá trị đầu tiên là <class 'numpy.int64'>\n",
            "Cột 'LowQualFinSF': Kiểu dữ liệu của giá trị đầu tiên là <class 'numpy.int64'>\n",
            "Cột 'GrLivArea': Kiểu dữ liệu của giá trị đầu tiên là <class 'numpy.int64'>\n",
            "Cột 'BsmtFullBath': Kiểu dữ liệu của giá trị đầu tiên là <class 'numpy.int64'>\n",
            "Cột 'BsmtHalfBath': Kiểu dữ liệu của giá trị đầu tiên là <class 'numpy.int64'>\n",
            "Cột 'FullBath': Kiểu dữ liệu của giá trị đầu tiên là <class 'numpy.int64'>\n",
            "Cột 'HalfBath': Kiểu dữ liệu của giá trị đầu tiên là <class 'numpy.int64'>\n",
            "Cột 'BedroomAbvGr': Kiểu dữ liệu của giá trị đầu tiên là <class 'numpy.int64'>\n",
            "Cột 'KitchenAbvGr': Kiểu dữ liệu của giá trị đầu tiên là <class 'numpy.int64'>\n",
            "Cột 'KitchenQual': Kiểu dữ liệu của giá trị đầu tiên là <class 'numpy.int64'>\n",
            "Cột 'TotRmsAbvGrd': Kiểu dữ liệu của giá trị đầu tiên là <class 'numpy.int64'>\n",
            "Cột 'Functional': Kiểu dữ liệu của giá trị đầu tiên là <class 'numpy.int64'>\n",
            "Cột 'Fireplaces': Kiểu dữ liệu của giá trị đầu tiên là <class 'numpy.int64'>\n",
            "Cột 'FireplaceQu': Kiểu dữ liệu của giá trị đầu tiên là <class 'numpy.int64'>\n",
            "Cột 'GarageYrBlt': Kiểu dữ liệu của giá trị đầu tiên là <class 'numpy.float64'>\n",
            "Cột 'GarageFinish': Kiểu dữ liệu của giá trị đầu tiên là <class 'numpy.int64'>\n",
            "Cột 'GarageCars': Kiểu dữ liệu của giá trị đầu tiên là <class 'numpy.int64'>\n",
            "Cột 'GarageArea': Kiểu dữ liệu của giá trị đầu tiên là <class 'numpy.int64'>\n",
            "Cột 'GarageQual': Kiểu dữ liệu của giá trị đầu tiên là <class 'numpy.int64'>\n",
            "Cột 'GarageCond': Kiểu dữ liệu của giá trị đầu tiên là <class 'numpy.int64'>\n",
            "Cột 'PavedDrive': Kiểu dữ liệu của giá trị đầu tiên là <class 'numpy.int64'>\n",
            "Cột 'WoodDeckSF': Kiểu dữ liệu của giá trị đầu tiên là <class 'numpy.int64'>\n",
            "Cột 'OpenPorchSF': Kiểu dữ liệu của giá trị đầu tiên là <class 'numpy.int64'>\n",
            "Cột 'EnclosedPorch': Kiểu dữ liệu của giá trị đầu tiên là <class 'numpy.int64'>\n",
            "Cột '3SsnPorch': Kiểu dữ liệu của giá trị đầu tiên là <class 'numpy.int64'>\n",
            "Cột 'ScreenPorch': Kiểu dữ liệu của giá trị đầu tiên là <class 'numpy.int64'>\n",
            "Cột 'PoolArea': Kiểu dữ liệu của giá trị đầu tiên là <class 'numpy.int64'>\n",
            "Cột 'PoolQC': Kiểu dữ liệu của giá trị đầu tiên là <class 'numpy.int64'>\n",
            "Cột 'Fence': Kiểu dữ liệu của giá trị đầu tiên là <class 'numpy.int64'>\n",
            "Cột 'MiscVal': Kiểu dữ liệu của giá trị đầu tiên là <class 'numpy.int64'>\n",
            "Cột 'MoSold': Kiểu dữ liệu của giá trị đầu tiên là <class 'numpy.int64'>\n",
            "Cột 'YrSold': Kiểu dữ liệu của giá trị đầu tiên là <class 'numpy.int64'>\n",
            "Cột 'HasPool': Kiểu dữ liệu của giá trị đầu tiên là <class 'numpy.int64'>\n",
            "Cột 'HasMiscFeature': Kiểu dữ liệu của giá trị đầu tiên là <class 'numpy.int64'>\n",
            "Cột 'HasAlley': Kiểu dữ liệu của giá trị đầu tiên là <class 'numpy.int64'>\n",
            "Cột 'HasFence': Kiểu dữ liệu của giá trị đầu tiên là <class 'numpy.int64'>\n",
            "Cột 'HasFireplace': Kiểu dữ liệu của giá trị đầu tiên là <class 'numpy.int64'>\n",
            "Cột 'MSZoning_FV': Kiểu dữ liệu của giá trị đầu tiên là <class 'numpy.bool'>\n",
            "Cột 'MSZoning_RH': Kiểu dữ liệu của giá trị đầu tiên là <class 'numpy.bool'>\n",
            "Cột 'MSZoning_RL': Kiểu dữ liệu của giá trị đầu tiên là <class 'numpy.bool'>\n",
            "Cột 'MSZoning_RM': Kiểu dữ liệu của giá trị đầu tiên là <class 'numpy.bool'>\n",
            "Cột 'Street_Pave': Kiểu dữ liệu của giá trị đầu tiên là <class 'numpy.bool'>\n",
            "Cột 'Alley_NoAlley': Kiểu dữ liệu của giá trị đầu tiên là <class 'numpy.bool'>\n",
            "Cột 'Alley_Pave': Kiểu dữ liệu của giá trị đầu tiên là <class 'numpy.bool'>\n",
            "Cột 'LandContour_HLS': Kiểu dữ liệu của giá trị đầu tiên là <class 'numpy.bool'>\n",
            "Cột 'LandContour_Low': Kiểu dữ liệu của giá trị đầu tiên là <class 'numpy.bool'>\n",
            "Cột 'LandContour_Lvl': Kiểu dữ liệu của giá trị đầu tiên là <class 'numpy.bool'>\n",
            "Cột 'Utilities_NoSeWa': Kiểu dữ liệu của giá trị đầu tiên là <class 'numpy.bool'>\n",
            "Cột 'LotConfig_CulDSac': Kiểu dữ liệu của giá trị đầu tiên là <class 'numpy.bool'>\n",
            "Cột 'LotConfig_FR2': Kiểu dữ liệu của giá trị đầu tiên là <class 'numpy.bool'>\n",
            "Cột 'LotConfig_FR3': Kiểu dữ liệu của giá trị đầu tiên là <class 'numpy.bool'>\n",
            "Cột 'LotConfig_Inside': Kiểu dữ liệu của giá trị đầu tiên là <class 'numpy.bool'>\n",
            "Cột 'Neighborhood_Blueste': Kiểu dữ liệu của giá trị đầu tiên là <class 'numpy.bool'>\n",
            "Cột 'Neighborhood_BrDale': Kiểu dữ liệu của giá trị đầu tiên là <class 'numpy.bool'>\n",
            "Cột 'Neighborhood_BrkSide': Kiểu dữ liệu của giá trị đầu tiên là <class 'numpy.bool'>\n",
            "Cột 'Neighborhood_ClearCr': Kiểu dữ liệu của giá trị đầu tiên là <class 'numpy.bool'>\n",
            "Cột 'Neighborhood_CollgCr': Kiểu dữ liệu của giá trị đầu tiên là <class 'numpy.bool'>\n",
            "Cột 'Neighborhood_Crawfor': Kiểu dữ liệu của giá trị đầu tiên là <class 'numpy.bool'>\n",
            "Cột 'Neighborhood_Edwards': Kiểu dữ liệu của giá trị đầu tiên là <class 'numpy.bool'>\n",
            "Cột 'Neighborhood_Gilbert': Kiểu dữ liệu của giá trị đầu tiên là <class 'numpy.bool'>\n",
            "Cột 'Neighborhood_IDOTRR': Kiểu dữ liệu của giá trị đầu tiên là <class 'numpy.bool'>\n",
            "Cột 'Neighborhood_MeadowV': Kiểu dữ liệu của giá trị đầu tiên là <class 'numpy.bool'>\n",
            "Cột 'Neighborhood_Mitchel': Kiểu dữ liệu của giá trị đầu tiên là <class 'numpy.bool'>\n",
            "Cột 'Neighborhood_NAmes': Kiểu dữ liệu của giá trị đầu tiên là <class 'numpy.bool'>\n",
            "Cột 'Neighborhood_NPkVill': Kiểu dữ liệu của giá trị đầu tiên là <class 'numpy.bool'>\n",
            "Cột 'Neighborhood_NWAmes': Kiểu dữ liệu của giá trị đầu tiên là <class 'numpy.bool'>\n",
            "Cột 'Neighborhood_NoRidge': Kiểu dữ liệu của giá trị đầu tiên là <class 'numpy.bool'>\n",
            "Cột 'Neighborhood_NridgHt': Kiểu dữ liệu của giá trị đầu tiên là <class 'numpy.bool'>\n",
            "Cột 'Neighborhood_OldTown': Kiểu dữ liệu của giá trị đầu tiên là <class 'numpy.bool'>\n",
            "Cột 'Neighborhood_SWISU': Kiểu dữ liệu của giá trị đầu tiên là <class 'numpy.bool'>\n",
            "Cột 'Neighborhood_Sawyer': Kiểu dữ liệu của giá trị đầu tiên là <class 'numpy.bool'>\n",
            "Cột 'Neighborhood_SawyerW': Kiểu dữ liệu của giá trị đầu tiên là <class 'numpy.bool'>\n",
            "Cột 'Neighborhood_Somerst': Kiểu dữ liệu của giá trị đầu tiên là <class 'numpy.bool'>\n",
            "Cột 'Neighborhood_StoneBr': Kiểu dữ liệu của giá trị đầu tiên là <class 'numpy.bool'>\n",
            "Cột 'Neighborhood_Timber': Kiểu dữ liệu của giá trị đầu tiên là <class 'numpy.bool'>\n",
            "Cột 'Neighborhood_Veenker': Kiểu dữ liệu của giá trị đầu tiên là <class 'numpy.bool'>\n",
            "Cột 'Condition1_Feedr': Kiểu dữ liệu của giá trị đầu tiên là <class 'numpy.bool'>\n",
            "Cột 'Condition1_Norm': Kiểu dữ liệu của giá trị đầu tiên là <class 'numpy.bool'>\n",
            "Cột 'Condition1_PosA': Kiểu dữ liệu của giá trị đầu tiên là <class 'numpy.bool'>\n",
            "Cột 'Condition1_PosN': Kiểu dữ liệu của giá trị đầu tiên là <class 'numpy.bool'>\n",
            "Cột 'Condition1_RRAe': Kiểu dữ liệu của giá trị đầu tiên là <class 'numpy.bool'>\n",
            "Cột 'Condition1_RRAn': Kiểu dữ liệu của giá trị đầu tiên là <class 'numpy.bool'>\n",
            "Cột 'Condition1_RRNe': Kiểu dữ liệu của giá trị đầu tiên là <class 'numpy.bool'>\n",
            "Cột 'Condition1_RRNn': Kiểu dữ liệu của giá trị đầu tiên là <class 'numpy.bool'>\n",
            "Cột 'Condition2_Feedr': Kiểu dữ liệu của giá trị đầu tiên là <class 'numpy.bool'>\n",
            "Cột 'Condition2_Norm': Kiểu dữ liệu của giá trị đầu tiên là <class 'numpy.bool'>\n",
            "Cột 'Condition2_PosA': Kiểu dữ liệu của giá trị đầu tiên là <class 'numpy.bool'>\n",
            "Cột 'Condition2_PosN': Kiểu dữ liệu của giá trị đầu tiên là <class 'numpy.bool'>\n",
            "Cột 'Condition2_RRAe': Kiểu dữ liệu của giá trị đầu tiên là <class 'numpy.bool'>\n",
            "Cột 'Condition2_RRAn': Kiểu dữ liệu của giá trị đầu tiên là <class 'numpy.bool'>\n",
            "Cột 'Condition2_RRNn': Kiểu dữ liệu của giá trị đầu tiên là <class 'numpy.bool'>\n",
            "Cột 'BldgType_2fmCon': Kiểu dữ liệu của giá trị đầu tiên là <class 'numpy.bool'>\n",
            "Cột 'BldgType_Duplex': Kiểu dữ liệu của giá trị đầu tiên là <class 'numpy.bool'>\n",
            "Cột 'BldgType_Twnhs': Kiểu dữ liệu của giá trị đầu tiên là <class 'numpy.bool'>\n",
            "Cột 'BldgType_TwnhsE': Kiểu dữ liệu của giá trị đầu tiên là <class 'numpy.bool'>\n",
            "Cột 'HouseStyle_1.5Unf': Kiểu dữ liệu của giá trị đầu tiên là <class 'numpy.bool'>\n",
            "Cột 'HouseStyle_1Story': Kiểu dữ liệu của giá trị đầu tiên là <class 'numpy.bool'>\n",
            "Cột 'HouseStyle_2.5Fin': Kiểu dữ liệu của giá trị đầu tiên là <class 'numpy.bool'>\n",
            "Cột 'HouseStyle_2.5Unf': Kiểu dữ liệu của giá trị đầu tiên là <class 'numpy.bool'>\n",
            "Cột 'HouseStyle_2Story': Kiểu dữ liệu của giá trị đầu tiên là <class 'numpy.bool'>\n",
            "Cột 'HouseStyle_SFoyer': Kiểu dữ liệu của giá trị đầu tiên là <class 'numpy.bool'>\n",
            "Cột 'HouseStyle_SLvl': Kiểu dữ liệu của giá trị đầu tiên là <class 'numpy.bool'>\n",
            "Cột 'RoofStyle_Gable': Kiểu dữ liệu của giá trị đầu tiên là <class 'numpy.bool'>\n",
            "Cột 'RoofStyle_Gambrel': Kiểu dữ liệu của giá trị đầu tiên là <class 'numpy.bool'>\n",
            "Cột 'RoofStyle_Hip': Kiểu dữ liệu của giá trị đầu tiên là <class 'numpy.bool'>\n",
            "Cột 'RoofStyle_Mansard': Kiểu dữ liệu của giá trị đầu tiên là <class 'numpy.bool'>\n",
            "Cột 'RoofStyle_Shed': Kiểu dữ liệu của giá trị đầu tiên là <class 'numpy.bool'>\n",
            "Cột 'RoofMatl_CompShg': Kiểu dữ liệu của giá trị đầu tiên là <class 'numpy.bool'>\n",
            "Cột 'RoofMatl_Membran': Kiểu dữ liệu của giá trị đầu tiên là <class 'numpy.bool'>\n",
            "Cột 'RoofMatl_Metal': Kiểu dữ liệu của giá trị đầu tiên là <class 'numpy.bool'>\n",
            "Cột 'RoofMatl_Roll': Kiểu dữ liệu của giá trị đầu tiên là <class 'numpy.bool'>\n",
            "Cột 'RoofMatl_Tar&Grv': Kiểu dữ liệu của giá trị đầu tiên là <class 'numpy.bool'>\n",
            "Cột 'RoofMatl_WdShake': Kiểu dữ liệu của giá trị đầu tiên là <class 'numpy.bool'>\n",
            "Cột 'RoofMatl_WdShngl': Kiểu dữ liệu của giá trị đầu tiên là <class 'numpy.bool'>\n",
            "Cột 'Exterior1st_AsphShn': Kiểu dữ liệu của giá trị đầu tiên là <class 'numpy.bool'>\n",
            "Cột 'Exterior1st_BrkComm': Kiểu dữ liệu của giá trị đầu tiên là <class 'numpy.bool'>\n",
            "Cột 'Exterior1st_BrkFace': Kiểu dữ liệu của giá trị đầu tiên là <class 'numpy.bool'>\n",
            "Cột 'Exterior1st_CBlock': Kiểu dữ liệu của giá trị đầu tiên là <class 'numpy.bool'>\n",
            "Cột 'Exterior1st_CemntBd': Kiểu dữ liệu của giá trị đầu tiên là <class 'numpy.bool'>\n",
            "Cột 'Exterior1st_HdBoard': Kiểu dữ liệu của giá trị đầu tiên là <class 'numpy.bool'>\n",
            "Cột 'Exterior1st_ImStucc': Kiểu dữ liệu của giá trị đầu tiên là <class 'numpy.bool'>\n",
            "Cột 'Exterior1st_MetalSd': Kiểu dữ liệu của giá trị đầu tiên là <class 'numpy.bool'>\n",
            "Cột 'Exterior1st_Plywood': Kiểu dữ liệu của giá trị đầu tiên là <class 'numpy.bool'>\n",
            "Cột 'Exterior1st_Stone': Kiểu dữ liệu của giá trị đầu tiên là <class 'numpy.bool'>\n",
            "Cột 'Exterior1st_Stucco': Kiểu dữ liệu của giá trị đầu tiên là <class 'numpy.bool'>\n",
            "Cột 'Exterior1st_VinylSd': Kiểu dữ liệu của giá trị đầu tiên là <class 'numpy.bool'>\n",
            "Cột 'Exterior1st_Wd Sdng': Kiểu dữ liệu của giá trị đầu tiên là <class 'numpy.bool'>\n",
            "Cột 'Exterior1st_WdShing': Kiểu dữ liệu của giá trị đầu tiên là <class 'numpy.bool'>\n",
            "Cột 'Exterior2nd_AsphShn': Kiểu dữ liệu của giá trị đầu tiên là <class 'numpy.bool'>\n",
            "Cột 'Exterior2nd_Brk Cmn': Kiểu dữ liệu của giá trị đầu tiên là <class 'numpy.bool'>\n",
            "Cột 'Exterior2nd_BrkFace': Kiểu dữ liệu của giá trị đầu tiên là <class 'numpy.bool'>\n",
            "Cột 'Exterior2nd_CBlock': Kiểu dữ liệu của giá trị đầu tiên là <class 'numpy.bool'>\n",
            "Cột 'Exterior2nd_CmentBd': Kiểu dữ liệu của giá trị đầu tiên là <class 'numpy.bool'>\n",
            "Cột 'Exterior2nd_HdBoard': Kiểu dữ liệu của giá trị đầu tiên là <class 'numpy.bool'>\n",
            "Cột 'Exterior2nd_ImStucc': Kiểu dữ liệu của giá trị đầu tiên là <class 'numpy.bool'>\n",
            "Cột 'Exterior2nd_MetalSd': Kiểu dữ liệu của giá trị đầu tiên là <class 'numpy.bool'>\n",
            "Cột 'Exterior2nd_Other': Kiểu dữ liệu của giá trị đầu tiên là <class 'numpy.bool'>\n",
            "Cột 'Exterior2nd_Plywood': Kiểu dữ liệu của giá trị đầu tiên là <class 'numpy.bool'>\n",
            "Cột 'Exterior2nd_Stone': Kiểu dữ liệu của giá trị đầu tiên là <class 'numpy.bool'>\n",
            "Cột 'Exterior2nd_Stucco': Kiểu dữ liệu của giá trị đầu tiên là <class 'numpy.bool'>\n",
            "Cột 'Exterior2nd_VinylSd': Kiểu dữ liệu của giá trị đầu tiên là <class 'numpy.bool'>\n",
            "Cột 'Exterior2nd_Wd Sdng': Kiểu dữ liệu của giá trị đầu tiên là <class 'numpy.bool'>\n",
            "Cột 'Exterior2nd_Wd Shng': Kiểu dữ liệu của giá trị đầu tiên là <class 'numpy.bool'>\n",
            "Cột 'MasVnrType_BrkFace': Kiểu dữ liệu của giá trị đầu tiên là <class 'numpy.bool'>\n",
            "Cột 'MasVnrType_Stone': Kiểu dữ liệu của giá trị đầu tiên là <class 'numpy.bool'>\n",
            "Cột 'CentralAir_Y': Kiểu dữ liệu của giá trị đầu tiên là <class 'numpy.bool'>\n",
            "Cột 'Electrical_FuseF': Kiểu dữ liệu của giá trị đầu tiên là <class 'numpy.bool'>\n",
            "Cột 'Electrical_FuseP': Kiểu dữ liệu của giá trị đầu tiên là <class 'numpy.bool'>\n",
            "Cột 'Electrical_Mix': Kiểu dữ liệu của giá trị đầu tiên là <class 'numpy.bool'>\n",
            "Cột 'Electrical_SBrkr': Kiểu dữ liệu của giá trị đầu tiên là <class 'numpy.bool'>\n",
            "Cột 'SaleType_CWD': Kiểu dữ liệu của giá trị đầu tiên là <class 'numpy.bool'>\n",
            "Cột 'SaleType_Con': Kiểu dữ liệu của giá trị đầu tiên là <class 'numpy.bool'>\n",
            "Cột 'SaleType_ConLD': Kiểu dữ liệu của giá trị đầu tiên là <class 'numpy.bool'>\n",
            "Cột 'SaleType_ConLI': Kiểu dữ liệu của giá trị đầu tiên là <class 'numpy.bool'>\n",
            "Cột 'SaleType_ConLw': Kiểu dữ liệu của giá trị đầu tiên là <class 'numpy.bool'>\n",
            "Cột 'SaleType_New': Kiểu dữ liệu của giá trị đầu tiên là <class 'numpy.bool'>\n",
            "Cột 'SaleType_Oth': Kiểu dữ liệu của giá trị đầu tiên là <class 'numpy.bool'>\n",
            "Cột 'SaleType_WD': Kiểu dữ liệu của giá trị đầu tiên là <class 'numpy.bool'>\n",
            "Cột 'SaleCondition_AdjLand': Kiểu dữ liệu của giá trị đầu tiên là <class 'numpy.bool'>\n",
            "Cột 'SaleCondition_Alloca': Kiểu dữ liệu của giá trị đầu tiên là <class 'numpy.bool'>\n",
            "Cột 'SaleCondition_Family': Kiểu dữ liệu của giá trị đầu tiên là <class 'numpy.bool'>\n",
            "Cột 'SaleCondition_Normal': Kiểu dữ liệu của giá trị đầu tiên là <class 'numpy.bool'>\n",
            "Cột 'SaleCondition_Partial': Kiểu dữ liệu của giá trị đầu tiên là <class 'numpy.bool'>\n",
            "Cột 'Heating_GasA': Kiểu dữ liệu của giá trị đầu tiên là <class 'numpy.bool'>\n",
            "Cột 'Heating_GasW': Kiểu dữ liệu của giá trị đầu tiên là <class 'numpy.bool'>\n",
            "Cột 'Heating_Grav': Kiểu dữ liệu của giá trị đầu tiên là <class 'numpy.bool'>\n",
            "Cột 'Heating_OthW': Kiểu dữ liệu của giá trị đầu tiên là <class 'numpy.bool'>\n",
            "Cột 'Heating_Wall': Kiểu dữ liệu của giá trị đầu tiên là <class 'numpy.bool'>\n",
            "Cột 'GarageType_Attchd': Kiểu dữ liệu của giá trị đầu tiên là <class 'numpy.bool'>\n",
            "Cột 'GarageType_Basment': Kiểu dữ liệu của giá trị đầu tiên là <class 'numpy.bool'>\n",
            "Cột 'GarageType_BuiltIn': Kiểu dữ liệu của giá trị đầu tiên là <class 'numpy.bool'>\n",
            "Cột 'GarageType_CarPort': Kiểu dữ liệu của giá trị đầu tiên là <class 'numpy.bool'>\n",
            "Cột 'GarageType_Detchd': Kiểu dữ liệu của giá trị đầu tiên là <class 'numpy.bool'>\n",
            "Cột 'MiscFeature_None': Kiểu dữ liệu của giá trị đầu tiên là <class 'numpy.bool'>\n",
            "Cột 'MiscFeature_Othr': Kiểu dữ liệu của giá trị đầu tiên là <class 'numpy.bool'>\n",
            "Cột 'MiscFeature_Shed': Kiểu dữ liệu của giá trị đầu tiên là <class 'numpy.bool'>\n",
            "Cột 'MiscFeature_TenC': Kiểu dữ liệu của giá trị đầu tiên là <class 'numpy.bool'>\n"
          ]
        }
      ]
    },
    {
      "cell_type": "markdown",
      "source": [
        "Tìm được column Foundation vẫn còn là 'str' nên kiểm tra lại và mã hoá one-hot"
      ],
      "metadata": {
        "id": "JnefgDsEQHbm"
      }
    },
    {
      "cell_type": "code",
      "source": [
        "print(df['Foundation'].unique())"
      ],
      "metadata": {
        "colab": {
          "base_uri": "https://localhost:8080/"
        },
        "id": "1QrULreMPVjY",
        "outputId": "c4512ae2-cd80-4317-9acf-a9be9288ee0c"
      },
      "execution_count": 52,
      "outputs": [
        {
          "output_type": "stream",
          "name": "stdout",
          "text": [
            "['PConc' 'CBlock' 'BrkTil' 'Wood' 'Slab' 'Stone']\n"
          ]
        }
      ]
    },
    {
      "cell_type": "code",
      "source": [
        "# Thực hiện One-Hot Encoding cho cột 'Foundation'\n",
        "df = pd.get_dummies(df, columns=['Foundation'], drop_first=True)\n",
        "\n",
        "# Chia lại dữ liệu thành tập huấn luyện và tập kiểm tra\n",
        "X = df.drop('SalePrice', axis=1)\n",
        "y = df['SalePrice']\n",
        "X_train, X_test, y_train, y_test = train_test_split(X, y, test_size=0.2, random_state=42)\n",
        "\n",
        "# Kiểm tra lại kiểu dữ liệu của cột 'Foundation' (và các cột liên quan sau OHE) trong X_train\n",
        "print(\"Kiểu dữ liệu các cột liên quan đến Foundation trong X_train:\")\n",
        "for col in X_train.columns:\n",
        "    if 'Foundation' in col:\n",
        "        print(f\"Cột '{col}': {X_train[col].dtype}\")\n",
        "\n",
        "# Huấn luyện lại mô hình Linear Regression\n",
        "linear_model = LinearRegression()\n",
        "linear_model.fit(X_train, y_train)\n",
        "\n",
        "# Dự đoán và đánh giá lại mô hình\n",
        "y_pred = linear_model.predict(X_test)\n",
        "mse = mean_squared_error(y_test, y_pred)\n",
        "rmse = np.sqrt(mse)\n",
        "r2 = r2_score(y_test, y_pred)\n",
        "\n",
        "print(\"\\nHiệu suất của mô hình Linear Regression trên tập kiểm tra (sau khi mã hóa lại Foundation):\")\n",
        "print(f\"Mean Squared Error (MSE): {mse:.2f}\")\n",
        "print(f\"Root Mean Squared Error (RMSE): {rmse:.2f}\")\n",
        "print(f\"R-squared (R²): {r2:.2f}\")"
      ],
      "metadata": {
        "colab": {
          "base_uri": "https://localhost:8080/"
        },
        "id": "aWfbXeeMPtMY",
        "outputId": "859c3cd3-cc47-4a9d-a900-a784ab40112e"
      },
      "execution_count": 53,
      "outputs": [
        {
          "output_type": "stream",
          "name": "stdout",
          "text": [
            "Kiểu dữ liệu các cột liên quan đến Foundation trong X_train:\n",
            "Cột 'Foundation_CBlock': bool\n",
            "Cột 'Foundation_PConc': bool\n",
            "Cột 'Foundation_Slab': bool\n",
            "Cột 'Foundation_Stone': bool\n",
            "Cột 'Foundation_Wood': bool\n",
            "\n",
            "Hiệu suất của mô hình Linear Regression trên tập kiểm tra (sau khi mã hóa lại Foundation):\n",
            "Mean Squared Error (MSE): 2414582753.11\n",
            "Root Mean Squared Error (RMSE): 49138.40\n",
            "R-squared (R²): 0.69\n"
          ]
        }
      ]
    },
    {
      "cell_type": "markdown",
      "source": [
        "### So sánh với các mô hình khác"
      ],
      "metadata": {
        "id": "k09WyE66RhVf"
      }
    },
    {
      "cell_type": "code",
      "source": [
        "from sklearn.ensemble import RandomForestRegressor\n",
        "\n",
        "# Khởi tạo mô hình Random Forest Regressor\n",
        "rf_model = RandomForestRegressor(random_state=42)\n",
        "\n",
        "# Huấn luyện mô hình trên dữ liệu huấn luyện\n",
        "rf_model.fit(X_train, y_train)\n",
        "\n",
        "print(\"Mô hình Random Forest Regressor đã được huấn luyện!\")\n",
        "\n",
        "# Dự đoán giá nhà trên tập kiểm tra\n",
        "y_pred_rf = rf_model.predict(X_test)\n",
        "\n",
        "# Tính toán các metrics đánh giá\n",
        "mse_rf = mean_squared_error(y_test, y_pred_rf)\n",
        "rmse_rf = np.sqrt(mse_rf)\n",
        "r2_rf = r2_score(y_test, y_pred_rf)\n",
        "\n",
        "print(\"\\nHiệu suất của mô hình Random Forest Regressor trên tập kiểm tra:\")\n",
        "print(f\"Mean Squared Error (MSE): {mse_rf:.2f}\")\n",
        "print(f\"Root Mean Squared Error (RMSE): {rmse_rf:.2f}\")\n",
        "print(f\"R-squared (R²): {r2_rf:.2f}\")"
      ],
      "metadata": {
        "colab": {
          "base_uri": "https://localhost:8080/"
        },
        "id": "wPxmWDnMRmrl",
        "outputId": "5b5ab32a-f780-440a-c6d6-1630c0d66540"
      },
      "execution_count": 54,
      "outputs": [
        {
          "output_type": "stream",
          "name": "stdout",
          "text": [
            "Mô hình Random Forest Regressor đã được huấn luyện!\n",
            "\n",
            "Hiệu suất của mô hình Random Forest Regressor trên tập kiểm tra:\n",
            "Mean Squared Error (MSE): 837858490.35\n",
            "Root Mean Squared Error (RMSE): 28945.79\n",
            "R-squared (R²): 0.89\n"
          ]
        }
      ]
    },
    {
      "cell_type": "markdown",
      "source": [
        "--> Mô hình RandomForest hiệu suất vượt trội hơn Linear Regression"
      ],
      "metadata": {
        "id": "NtYz-Pb6R6rd"
      }
    },
    {
      "cell_type": "markdown",
      "source": [
        "*** Xử lý ngoại lệ(outlier) ***"
      ],
      "metadata": {
        "id": "1bdaQAi_SJDe"
      }
    },
    {
      "cell_type": "code",
      "source": [
        "# Tính ma trận tương quan\n",
        "correlation_matrix = df.corr()\n",
        "\n",
        "# Lấy 10 biến có tương quan dương cao nhất với SalePrice (ngoài chính SalePrice)\n",
        "top_10_corr = correlation_matrix['SalePrice'].sort_values(ascending=False)[1:11]\n",
        "\n",
        "print(\"10 biến có tương quan dương cao nhất với SalePrice:\")\n",
        "print(top_10_corr)"
      ],
      "metadata": {
        "colab": {
          "base_uri": "https://localhost:8080/"
        },
        "id": "PYZCBWhvSHme",
        "outputId": "8bff98e0-98a4-405e-f828-9aa6748363e6"
      },
      "execution_count": 55,
      "outputs": [
        {
          "output_type": "stream",
          "name": "stdout",
          "text": [
            "10 biến có tương quan dương cao nhất với SalePrice:\n",
            "OverallQual    0.790982\n",
            "GrLivArea      0.708624\n",
            "ExterQual      0.682639\n",
            "KitchenQual    0.659600\n",
            "BsmtQual       0.650138\n",
            "GarageCars     0.640409\n",
            "GarageArea     0.623431\n",
            "TotalBsmtSF    0.613581\n",
            "1stFlrSF       0.605852\n",
            "FullBath       0.560664\n",
            "Name: SalePrice, dtype: float64\n"
          ]
        }
      ]
    },
    {
      "cell_type": "code",
      "source": [
        "plt.figure(figsize=(10, 6))\n",
        "sns.scatterplot(x=df['GrLivArea'], y=df['SalePrice'])\n",
        "plt.title('Scatter Plot of GrLivArea vs SalePrice')\n",
        "plt.xlabel('GrLivArea (Diện tích sàn trên mặt đất)')\n",
        "plt.ylabel('SalePrice (Giá nhà)')\n",
        "plt.show()"
      ],
      "metadata": {
        "colab": {
          "base_uri": "https://localhost:8080/",
          "height": 564
        },
        "id": "Am-vq9YiS6CO",
        "outputId": "a59c02c5-073a-43c0-a6e3-f43181b3c851"
      },
      "execution_count": 57,
      "outputs": [
        {
          "output_type": "display_data",
          "data": {
            "text/plain": [
              "<Figure size 1000x600 with 1 Axes>"
            ],
            "image/png": "[encoded data removed]"
          },
          "metadata": {}
        }
      ]
    },
    {
      "cell_type": "markdown",
      "source": [
        "Có vài điểm nằm ngoài xu hướng đám đông --> phải loại bỏ chúng\n",
        "\n",
        "Vì mô hình RF tốt hơn nên ta dùng mô hình đó để làm tiếp"
      ],
      "metadata": {
        "id": "Qhzis6nTTZIt"
      }
    },
    {
      "cell_type": "code",
      "source": [
        "# Xác định các ngoại lệ dựa trên ngưỡng\n",
        "outliers = df[(df['GrLivArea'] > 4000) & (df['SalePrice'] < 300000)].index\n",
        "\n",
        "# Loại bỏ các ngoại lệ khỏi DataFrame\n",
        "df = df.drop(outliers)\n",
        "\n",
        "# Vẽ lại scatter plot sau khi loại bỏ ngoại lệ để kiểm tra\n",
        "plt.figure(figsize=(10, 6))\n",
        "sns.scatterplot(x=df['GrLivArea'], y=df['SalePrice'])\n",
        "plt.title('Scatter Plot of GrLivArea vs SalePrice (Sau khi loại bỏ ngoại lệ)')\n",
        "plt.xlabel('GrLivArea (Diện tích sàn trên mặt đất)')\n",
        "plt.ylabel('SalePrice (Giá nhà)')\n",
        "plt.show()\n",
        "\n",
        "# Chia lại dữ liệu thành tập huấn luyện và tập kiểm tra sau khi loại bỏ ngoại lệ\n",
        "X = df.drop('SalePrice', axis=1)\n",
        "y = df['SalePrice']\n",
        "X_train, X_test, y_train, y_test = train_test_split(X, y, test_size=0.2, random_state=42)\n",
        "\n",
        "# Huấn luyện lại mô hình Random Forest Regressor trên dữ liệu đã được làm sạch\n",
        "rf_model_cleaned = RandomForestRegressor(random_state=42)\n",
        "rf_model_cleaned.fit(X_train, y_train)\n",
        "\n",
        "# Dự đoán và đánh giá lại mô hình\n",
        "y_pred_rf_cleaned = rf_model_cleaned.predict(X_test)\n",
        "mse_rf_cleaned = mean_squared_error(y_test, y_pred_rf_cleaned)\n",
        "rmse_rf_cleaned = np.sqrt(mse_rf_cleaned)\n",
        "r2_rf_cleaned = r2_score(y_test, y_pred_rf_cleaned)\n",
        "\n",
        "print(\"\\nHiệu suất của mô hình Random Forest Regressor trên tập kiểm tra (sau khi xử lý ngoại lệ):\")\n",
        "print(f\"Mean Squared Error (MSE): {mse_rf_cleaned:.2f}\")\n",
        "print(f\"Root Mean Squared Error (RMSE): {rmse_rf_cleaned:.2f}\")\n",
        "print(f\"R-squared (R²): {r2_rf_cleaned:.2f}\")"
      ],
      "metadata": {
        "colab": {
          "base_uri": "https://localhost:8080/",
          "height": 652
        },
        "id": "esAlD_zMTvp2",
        "outputId": "54449d71-1334-4f37-d825-22da3d5d6b55"
      },
      "execution_count": 58,
      "outputs": [
        {
          "output_type": "display_data",
          "data": {
            "text/plain": [
              "<Figure size 1000x600 with 1 Axes>"
            ],
            "image/png": "[encoded data removed]"
          },
          "metadata": {}
        },
        {
          "output_type": "stream",
          "name": "stdout",
          "text": [
            "\n",
            "Hiệu suất của mô hình Random Forest Regressor trên tập kiểm tra (sau khi xử lý ngoại lệ):\n",
            "Mean Squared Error (MSE): 587752135.36\n",
            "Root Mean Squared Error (RMSE): 24243.60\n",
            "R-squared (R²): 0.89\n"
          ]
        }
      ]
    },
    {
      "cell_type": "markdown",
      "source": [
        "### Hyperparameter Tuning\n",
        "Tối ưu hoá mô hình RF bằng cách dùng Cross_validation"
      ],
      "metadata": {
        "id": "7Gphg4eUU1jm"
      }
    },
    {
      "cell_type": "code",
      "source": [
        "from sklearn.model_selection import GridSearchCV\n",
        "\n",
        "# Định nghĩa lưới các siêu tham số để tìm kiếm\n",
        "param_grid = {\n",
        "    'n_estimators': [100, 200, 300],\n",
        "    'max_features': ['sqrt', 'log2'],\n",
        "    'max_depth': [None, 10, 20],\n",
        "    'min_samples_split': [2, 5, 10],\n",
        "    'min_samples_leaf': [1, 3, 5]\n",
        "}\n",
        "\n",
        "# Khởi tạo mô hình Random Forest Regressor\n",
        "rf_model_tune = RandomForestRegressor(random_state=42)\n",
        "\n",
        "# Khởi tạo GridSearchCV\n",
        "grid_search = GridSearchCV(estimator=rf_model_tune,\n",
        "                           param_grid=param_grid,\n",
        "                           cv=3,  # Sử dụng 3-fold cross-validation\n",
        "                           scoring='neg_mean_squared_error',  # Metric để đánh giá\n",
        "                           n_jobs=-1)  # Sử dụng tất cả các core CPU có sẵn\n",
        "\n",
        "# Thực hiện tìm kiếm trên lưới\n",
        "grid_search.fit(X_train, y_train)\n",
        "\n",
        "# In ra các siêu tham số tốt nhất\n",
        "print(\"Các siêu tham số tốt nhất tìm thấy:\")\n",
        "print(grid_search.best_params_)\n",
        "\n",
        "# Lấy mô hình tốt nhất\n",
        "best_rf_model = grid_search.best_estimator_\n",
        "\n",
        "# Dự đoán và đánh giá mô hình tốt nhất trên tập kiểm tra\n",
        "y_pred_best_rf = best_rf_model.predict(X_test)\n",
        "mse_best_rf = mean_squared_error(y_test, y_pred_best_rf)\n",
        "rmse_best_rf = np.sqrt(mse_best_rf)\n",
        "r2_best_rf = r2_score(y_test, y_pred_best_rf)\n",
        "\n",
        "print(\"\\nHiệu suất của mô hình Random Forest Regressor tốt nhất trên tập kiểm tra:\")\n",
        "print(f\"Mean Squared Error (MSE): {mse_best_rf:.2f}\")\n",
        "print(f\"Root Mean Squared Error (RMSE): {rmse_best_rf:.2f}\")\n",
        "print(f\"R-squared (R²): {r2_best_rf:.2f}\")"
      ],
      "metadata": {
        "colab": {
          "base_uri": "https://localhost:8080/"
        },
        "id": "vEQizyZyVFX6",
        "outputId": "15352a19-7c3f-41cf-e995-5caded9af973"
      },
      "execution_count": 59,
      "outputs": [
        {
          "output_type": "stream",
          "name": "stdout",
          "text": [
            "Các siêu tham số tốt nhất tìm thấy:\n",
            "{'max_depth': None, 'max_features': 'sqrt', 'min_samples_leaf': 1, 'min_samples_split': 2, 'n_estimators': 300}\n",
            "\n",
            "Hiệu suất của mô hình Random Forest Regressor tốt nhất trên tập kiểm tra:\n",
            "Mean Squared Error (MSE): 569273680.31\n",
            "Root Mean Squared Error (RMSE): 23859.46\n",
            "R-squared (R²): 0.90\n"
          ]
        }
      ]
    },
    {
      "cell_type": "markdown",
      "source": [
        "Thời gian cpu chạy huấn luyện 3p29s\n",
        "\n",
        "--> Hiệu suất tăng lên 90%, MSE và RMSE giảm"
      ],
      "metadata": {
        "id": "DS2-wOHTWNP2"
      }
    }
  ],
  "metadata": {
    "colab": {
      "provenance": []
    },
    "kernelspec": {
      "display_name": "Python 3",
      "name": "python3"
    }
  },
  "nbformat": 4,
  "nbformat_minor": 0
}